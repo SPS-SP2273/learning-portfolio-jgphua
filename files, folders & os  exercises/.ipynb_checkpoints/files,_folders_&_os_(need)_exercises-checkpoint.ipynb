{
 "cells": [
  {
   "attachments": {},
   "cell_type": "markdown",
   "id": "123456",
   "metadata": {},
   "source": [
    "<div style=\"text-align:left;font-size:2em\"><span style=\"font-weight:bolder;font-size:1.25em\">SP2273 | Learning Portfolio</span><br><br><span style=\"font-weight:bold;color:darkred\">Files, Folders & OS (Need) Exercises</span></div>"
   ]
  },
  {
   "cell_type": "markdown",
   "id": "901cb0b8-32a6-47be-86bc-c0dc59aa25ee",
   "metadata": {},
   "source": [
    "## Exercise 1 (Tidying a collaboration) ☻"
   ]
  },
  {
   "cell_type": "markdown",
   "id": "d66e447c-d6a4-4c7b-b823-9a01871280e4",
   "metadata": {},
   "source": [
    "### Task 1"
   ]
  },
  {
   "cell_type": "code",
   "execution_count": 12,
   "id": "0a8f12bd-0ce8-449a-abf3-a993f0363d5e",
   "metadata": {},
   "outputs": [],
   "source": [
    "month_dictionary = {\n",
    "'jan': '01', 'feb': '02', 'mar': '03',\n",
    "'apr': '04', 'may': '05', 'jun': '06',\n",
    "'jul': '07', 'aug': '08', 'sep': '09',\n",
    "'oct': '10', 'nov': '11', 'dec': '12'\n",
    "}"
   ]
  },
  {
   "cell_type": "code",
   "execution_count": 2,
   "id": "e7d6b874-782d-488d-850e-5d7f8454424b",
   "metadata": {},
   "outputs": [],
   "source": [
    "data = 'oct-08_singapore.txt'"
   ]
  },
  {
   "cell_type": "code",
   "execution_count": 8,
   "id": "ed5ba81d-37f8-485e-beeb-09ede32a5f0f",
   "metadata": {},
   "outputs": [
    {
     "name": "stdout",
     "output_type": "stream",
     "text": [
      "oct\n"
     ]
    }
   ],
   "source": [
    "month = data.split('-')[0] #split at - to extract out the month to change\n",
    "print(month)"
   ]
  },
  {
   "cell_type": "code",
   "execution_count": 14,
   "id": "c6f6959f-d629-4ca6-bb2f-a03309c82d1f",
   "metadata": {},
   "outputs": [
    {
     "data": {
      "text/plain": [
       "'10'"
      ]
     },
     "execution_count": 14,
     "metadata": {},
     "output_type": "execute_result"
    }
   ],
   "source": [
    "month_dictionary[month]"
   ]
  },
  {
   "cell_type": "code",
   "execution_count": 18,
   "id": "72e8cd34-91ea-4d4a-8a3d-85ca65f38cc5",
   "metadata": {},
   "outputs": [
    {
     "name": "stdout",
     "output_type": "stream",
     "text": [
      "10-08_singapore.txt\n"
     ]
    }
   ],
   "source": [
    "print(f\"{month_dictionary[month]}-{data.split('-')[1]}\") #- and _ to split"
   ]
  },
  {
   "cell_type": "code",
   "execution_count": null,
   "id": "c44054e5-7cf8-4938-81c3-6bfd3700cb1c",
   "metadata": {},
   "outputs": [],
   "source": []
  }
 ],
 "metadata": {
  "kernelspec": {
   "display_name": "Python 3 (ipykernel)",
   "language": "python",
   "name": "python3"
  },
  "language_info": {
   "codemirror_mode": {
    "name": "ipython",
    "version": 3
   },
   "file_extension": ".py",
   "mimetype": "text/x-python",
   "name": "python",
   "nbconvert_exporter": "python",
   "pygments_lexer": "ipython3",
   "version": "3.11.5"
  },
  "toc": {
   "base_numbering": 1,
   "nav_menu": {},
   "number_sections": true,
   "sideBar": true,
   "skip_h1_title": false,
   "title_cell": "Table of Contents",
   "title_sidebar": "Contents",
   "toc_cell": false,
   "toc_position": {},
   "toc_section_display": true,
   "toc_window_display": false
  },
  "vscode": {
   "interpreter": {
    "hash": "31f2aee4e71d21fbe5cf8b01ff0e069b9275f58929596ceb00d14d90e3e16cd6"
   }
  }
 },
 "nbformat": 4,
 "nbformat_minor": 5
}
