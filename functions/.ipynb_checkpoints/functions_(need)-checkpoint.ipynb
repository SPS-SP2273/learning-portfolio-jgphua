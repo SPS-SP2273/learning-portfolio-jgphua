{
 "cells": [
  {
   "attachments": {},
   "cell_type": "markdown",
   "id": "123456",
   "metadata": {},
   "source": [
    "<div style=\"text-align:left;font-size:2em\"><span style=\"font-weight:bolder;font-size:1.25em\">SP2273 | Learning Portfolio</span><br><br><span style=\"font-weight:bold;color:darkred\">Functions (Need)</span></div>"
   ]
  },
  {
   "attachments": {},
   "cell_type": "markdown",
   "id": "baaac3c2",
   "metadata": {},
   "source": [
    "# What to expect in this chapter"
   ]
  },
  {
   "attachments": {},
   "cell_type": "markdown",
   "id": "0dc2edb5",
   "metadata": {},
   "source": [
    "# 1 User-defined functions"
   ]
  },
  {
   "attachments": {},
   "cell_type": "markdown",
   "id": "e4a81bed",
   "metadata": {},
   "source": [
    "## 1.1 Named Functions"
   ]
  },
  {
   "attachments": {},
   "cell_type": "markdown",
   "id": "a5d01dc0",
   "metadata": {},
   "source": [
    "### Named functions that return"
   ]
  },
  {
   "cell_type": "code",
   "execution_count": 17,
   "id": "471960a6",
   "metadata": {},
   "outputs": [],
   "source": [
    "def greeting(name): #def can be used to create own function, so in this case greeting() is a function and accepts name as argument\n",
    "    if name == 'Batman':\n",
    "        return 'Hello Batman! So, nice to meet you!'\n",
    "    else:\n",
    "        return f'Hello {name}!'"
   ]
  },
  {
   "cell_type": "code",
   "execution_count": 5,
   "id": "c8ad3c3a-597f-45e1-a30f-933c604b28b2",
   "metadata": {},
   "outputs": [
    {
     "data": {
      "text/plain": [
       "'Hello Super Man!'"
      ]
     },
     "execution_count": 5,
     "metadata": {},
     "output_type": "execute_result"
    }
   ],
   "source": [
    "greeting(\"Super Man\")"
   ]
  },
  {
   "cell_type": "code",
   "execution_count": 9,
   "id": "b5872b07-b542-40fc-ac89-358cc464d633",
   "metadata": {},
   "outputs": [
    {
     "data": {
      "text/plain": [
       "'Hello Batman! So, nice to meet you!'"
      ]
     },
     "execution_count": 9,
     "metadata": {},
     "output_type": "execute_result"
    }
   ],
   "source": [
    "greeting(name=\"Batman\") #keyword arguments vs positional argument. will be useful if there are more parameters so it will be clearer"
   ]
  },
  {
   "cell_type": "code",
   "execution_count": 18,
   "id": "9c09d14e-6cb1-4c28-862f-293487810eb4",
   "metadata": {},
   "outputs": [
    {
     "name": "stdout",
     "output_type": "stream",
     "text": [
      "Hello Super Man!\n"
     ]
    }
   ],
   "source": [
    "greet=greeting(name='Super Man') #value can be assigned to variable directly when used return\n",
    "print(greet)"
   ]
  },
  {
   "cell_type": "code",
   "execution_count": 13,
   "id": "5006b00f-c425-4854-8793-3a662260b37e",
   "metadata": {},
   "outputs": [
    {
     "name": "stdout",
     "output_type": "stream",
     "text": [
      "Hello Super Man!\n",
      "None\n"
     ]
    }
   ],
   "source": [
    "def greeting(name): \n",
    "    if name == 'Batman':\n",
    "        print('Hello Batman! So, nice to meet you!')\n",
    "    else:\n",
    "        print(f'Hello {name}!') #if used print, the output cannot be assigned to variable\n",
    "\n",
    "greet=greeting(name='Super Man') \n",
    "print(greet)"
   ]
  },
  {
   "cell_type": "code",
   "execution_count": 11,
   "id": "b3879f3a-258e-4871-bce4-2a0955f1053a",
   "metadata": {},
   "outputs": [
    {
     "name": "stdout",
     "output_type": "stream",
     "text": [
      "Hello Super Man!\n"
     ]
    }
   ],
   "source": [
    "print(greeting(name='Super Man')) "
   ]
  },
  {
   "cell_type": "code",
   "execution_count": 22,
   "id": "7520b9d9-7a49-4455-9c1e-bb1792f70da4",
   "metadata": {},
   "outputs": [],
   "source": [
    "import numpy as np\n",
    "\n",
    "def basic_stats(numbers):\n",
    "    np_numbers = np.array(numbers) \n",
    "    my_min = np_numbers.min()\n",
    "    my_max = np_numbers.max()\n",
    "    my_mean = np_numbers.mean()\n",
    "    return my_max, my_min, my_mean #return can be used to return, min, max, mean\n",
    "\n",
    "list_min, list_max, list_mean = basic_stats([1, 2, 3, 4, 5])"
   ]
  },
  {
   "cell_type": "code",
   "execution_count": 24,
   "id": "0d019b1f-e0d5-432e-be2e-540520f78c81",
   "metadata": {},
   "outputs": [
    {
     "name": "stdout",
     "output_type": "stream",
     "text": [
      "5\n"
     ]
    }
   ],
   "source": [
    "print(list_min)"
   ]
  },
  {
   "cell_type": "code",
   "execution_count": 25,
   "id": "d102bea6-9811-4212-a3dd-09253e64d551",
   "metadata": {},
   "outputs": [
    {
     "name": "stdout",
     "output_type": "stream",
     "text": [
      "3.0\n"
     ]
    }
   ],
   "source": [
    "print(list_mean)"
   ]
  },
  {
   "attachments": {},
   "cell_type": "markdown",
   "id": "93162450",
   "metadata": {},
   "source": [
    "### Named functions that don’t return"
   ]
  },
  {
   "cell_type": "code",
   "execution_count": 27,
   "id": "e1fe911f",
   "metadata": {},
   "outputs": [
    {
     "name": "stdout",
     "output_type": "stream",
     "text": [
      "\n"
     ]
    }
   ],
   "source": [
    "print() #functions may not need to return anything but still serves a purpose"
   ]
  },
  {
   "attachments": {},
   "cell_type": "markdown",
   "id": "6ee351b4",
   "metadata": {},
   "source": [
    "## 1.2 Anonymous functions"
   ]
  },
  {
   "cell_type": "code",
   "execution_count": 32,
   "id": "ded71884-c757-428c-997e-84810d794811",
   "metadata": {},
   "outputs": [],
   "source": [
    "my_short_function = lambda name: f\"Hello {name}!\" #lambda can be used without defining "
   ]
  },
  {
   "cell_type": "code",
   "execution_count": 29,
   "id": "4c857f74-f3f2-46ae-a11d-46735f230a09",
   "metadata": {},
   "outputs": [
    {
     "data": {
      "text/plain": [
       "'Hello Super Man!'"
      ]
     },
     "execution_count": 29,
     "metadata": {},
     "output_type": "execute_result"
    }
   ],
   "source": [
    "my_short_function(name=\"Super Man\")"
   ]
  },
  {
   "attachments": {},
   "cell_type": "markdown",
   "id": "677c634b",
   "metadata": {},
   "source": [
    "## 1.3 Optional arguments"
   ]
  },
  {
   "attachments": {},
   "cell_type": "markdown",
   "id": "a0642ea7",
   "metadata": {},
   "source": [
    "## 1.4 The importance of functions?"
   ]
  },
  {
   "attachments": {},
   "cell_type": "markdown",
   "id": "44584d49",
   "metadata": {},
   "source": [
    "### An argument for functions"
   ]
  },
  {
   "cell_type": "code",
   "execution_count": null,
   "id": "aaaa9c2a",
   "metadata": {},
   "outputs": [],
   "source": [
    "\n",
    "# Your code here\n"
   ]
  },
  {
   "attachments": {},
   "cell_type": "markdown",
   "id": "790a17b3",
   "metadata": {},
   "source": [
    "### A word of caution"
   ]
  },
  {
   "cell_type": "code",
   "execution_count": null,
   "id": "7cd29d46",
   "metadata": {},
   "outputs": [],
   "source": [
    "\n",
    "# Your code here\n"
   ]
  }
 ],
 "metadata": {
  "kernelspec": {
   "display_name": "Python 3 (ipykernel)",
   "language": "python",
   "name": "python3"
  },
  "language_info": {
   "codemirror_mode": {
    "name": "ipython",
    "version": 3
   },
   "file_extension": ".py",
   "mimetype": "text/x-python",
   "name": "python",
   "nbconvert_exporter": "python",
   "pygments_lexer": "ipython3",
   "version": "3.11.5"
  },
  "toc": {
   "base_numbering": 1,
   "nav_menu": {},
   "number_sections": true,
   "sideBar": true,
   "skip_h1_title": false,
   "title_cell": "Table of Contents",
   "title_sidebar": "Contents",
   "toc_cell": false,
   "toc_position": {},
   "toc_section_display": true,
   "toc_window_display": false
  },
  "vscode": {
   "interpreter": {
    "hash": "31f2aee4e71d21fbe5cf8b01ff0e069b9275f58929596ceb00d14d90e3e16cd6"
   }
  }
 },
 "nbformat": 4,
 "nbformat_minor": 5
}
