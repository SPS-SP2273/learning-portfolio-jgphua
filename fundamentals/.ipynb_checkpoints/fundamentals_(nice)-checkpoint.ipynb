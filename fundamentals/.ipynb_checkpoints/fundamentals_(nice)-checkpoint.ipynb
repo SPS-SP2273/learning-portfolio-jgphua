{
 "cells": [
  {
   "attachments": {},
   "cell_type": "markdown",
   "id": "123456",
   "metadata": {},
   "source": [
    "<div style=\"text-align:left;font-size:2em\"><span style=\"font-weight:bolder;font-size:1.25em\">SP2273 | Learning Portfolio</span><br><br><span style=\"font-weight:bold;color:darkred\">Fundamentals (Nice)</span></div>"
   ]
  },
  {
   "attachments": {},
   "cell_type": "markdown",
   "id": "6aa84ad0",
   "metadata": {},
   "source": [
    "# 1 If if is not enough"
   ]
  },
  {
   "cell_type": "code",
   "execution_count": 1,
   "id": "2c627e8b-0ad1-4199-bd60-47b5988df9c8",
   "metadata": {},
   "outputs": [
    {
     "name": "stdout",
     "output_type": "stream",
     "text": [
      "Hello Hero | Batman!\n"
     ]
    }
   ],
   "source": [
    "name = 'Batman'\n",
    "\n",
    "match name:\n",
    "    case 'Batman':\n",
    "        print('Hello Hero | Batman!')\n",
    "    case 'Robin':\n",
    "        print('Hello Sidekick | Robin!')\n",
    "    case _:\n",
    "        print('Hello World!')"
   ]
  },
  {
   "cell_type": "code",
   "execution_count": 1,
   "id": "dfd75cfb-dad2-48a3-8d2d-c68de9bc9031",
   "metadata": {},
   "outputs": [
    {
     "name": "stdout",
     "output_type": "stream",
     "text": [
      "Hello World!\n"
     ]
    }
   ],
   "source": [
    "name = 'superman'\n",
    "\n",
    "match name:\n",
    "    case 'Batman':\n",
    "        print('Hello Hero | Batman!')\n",
    "    case 'Robin':\n",
    "        print('Hello Sidekick | Robin!')\n",
    "    case _:\n",
    "        print('Hello World!')"
   ]
  },
  {
   "attachments": {},
   "cell_type": "markdown",
   "id": "3915a9a9",
   "metadata": {},
   "source": [
    "# 2 Ternary operators or Conditional Statements"
   ]
  },
  {
   "cell_type": "code",
   "execution_count": 9,
   "id": "e00de037-9af8-49e7-b76c-bdff0acb6f25",
   "metadata": {},
   "outputs": [
    {
     "name": "stdout",
     "output_type": "stream",
     "text": [
      "Bonjour!\n"
     ]
    }
   ],
   "source": [
    "nationality = \"French\"\n",
    "greeting = \"Bonjour!\" if nationality == 'French' else \"Hello!\"\n",
    "print(greeting)"
   ]
  },
  {
   "cell_type": "code",
   "execution_count": 10,
   "id": "73f5d9fc-3ee2-4d29-8330-f9de544bf676",
   "metadata": {},
   "outputs": [
    {
     "name": "stdout",
     "output_type": "stream",
     "text": [
      "Hello!\n"
     ]
    }
   ],
   "source": [
    "nationality = \"not french\"\n",
    "greeting = \"Bonjour!\" if nationality == 'French' else \"Hello!\"\n",
    "print(greeting)"
   ]
  },
  {
   "cell_type": "code",
   "execution_count": 4,
   "id": "3bb54606-6ce0-4552-8da8-5036dc777fa1",
   "metadata": {},
   "outputs": [],
   "source": [
    "text = None\n",
    "message = text or \"No message!\""
   ]
  },
  {
   "cell_type": "code",
   "execution_count": 15,
   "id": "47ce313a-fbea-45d8-9e7b-b0a79d0c7aea",
   "metadata": {},
   "outputs": [
    {
     "data": {
      "text/plain": [
       "'Bonjour!'"
      ]
     },
     "execution_count": 15,
     "metadata": {},
     "output_type": "execute_result"
    }
   ],
   "source": [
    "nationality = 'no'\n",
    "(\"Bonjour!\", \"Hello!\")[nationality == 'French']"
   ]
  },
  {
   "attachments": {},
   "cell_type": "markdown",
   "id": "563cce40",
   "metadata": {},
   "source": [
    "# 3 Swapping values"
   ]
  },
  {
   "cell_type": "code",
   "execution_count": 5,
   "id": "e4f4f20a-4aed-47b3-9172-13fd368de671",
   "metadata": {},
   "outputs": [
    {
     "name": "stdout",
     "output_type": "stream",
     "text": [
      "2 1\n"
     ]
    }
   ],
   "source": [
    "a, b = 1, 2\n",
    "a, b = b, a\n",
    "print(a, b)"
   ]
  },
  {
   "attachments": {},
   "cell_type": "markdown",
   "id": "f297c2b3",
   "metadata": {},
   "source": [
    "# 4 There are more types"
   ]
  },
  {
   "attachments": {},
   "cell_type": "markdown",
   "id": "496886e6",
   "metadata": {},
   "source": [
    "# 5 Operator precedance"
   ]
  },
  {
   "attachments": {},
   "cell_type": "markdown",
   "id": "9ca8af66",
   "metadata": {},
   "source": [
    "# 6 Variables in Python are just names"
   ]
  },
  {
   "attachments": {},
   "cell_type": "markdown",
   "id": "f0024fd2",
   "metadata": {},
   "source": [
    "## 6.1 The Problem"
   ]
  },
  {
   "attachments": {},
   "cell_type": "markdown",
   "id": "75d99dea",
   "metadata": {},
   "source": [
    "## 6.2 An explanation"
   ]
  },
  {
   "attachments": {},
   "cell_type": "markdown",
   "id": "262bf078",
   "metadata": {},
   "source": [
    "## 6.3 A solution"
   ]
  },
  {
   "attachments": {},
   "cell_type": "markdown",
   "id": "2fb2a2ba",
   "metadata": {},
   "source": [
    "# 7 == is not the same as is"
   ]
  },
  {
   "attachments": {},
   "cell_type": "markdown",
   "id": "de5b459d",
   "metadata": {},
   "source": [
    "## Footnotes"
   ]
  }
 ],
 "metadata": {
  "kernelspec": {
   "display_name": "Python 3 (ipykernel)",
   "language": "python",
   "name": "python3"
  },
  "language_info": {
   "codemirror_mode": {
    "name": "ipython",
    "version": 3
   },
   "file_extension": ".py",
   "mimetype": "text/x-python",
   "name": "python",
   "nbconvert_exporter": "python",
   "pygments_lexer": "ipython3",
   "version": "3.11.5"
  },
  "toc": {
   "base_numbering": 1,
   "nav_menu": {},
   "number_sections": true,
   "sideBar": true,
   "skip_h1_title": false,
   "title_cell": "Table of Contents",
   "title_sidebar": "Contents",
   "toc_cell": false,
   "toc_position": {},
   "toc_section_display": true,
   "toc_window_display": false
  },
  "vscode": {
   "interpreter": {
    "hash": "31f2aee4e71d21fbe5cf8b01ff0e069b9275f58929596ceb00d14d90e3e16cd6"
   }
  }
 },
 "nbformat": 4,
 "nbformat_minor": 5
}
