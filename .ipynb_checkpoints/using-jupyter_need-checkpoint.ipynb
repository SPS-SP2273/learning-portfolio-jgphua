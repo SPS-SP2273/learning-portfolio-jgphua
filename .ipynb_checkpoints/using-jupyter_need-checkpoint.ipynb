{
 "cells": [
  {
   "cell_type": "code",
   "execution_count": 1,
   "id": "d966933e-e378-4050-8165-c8aeedbad2d0",
   "metadata": {},
   "outputs": [
    {
     "name": "stdout",
     "output_type": "stream",
     "text": [
      "Hello World\n"
     ]
    }
   ],
   "source": [
    "print(\"Hello World\")"
   ]
  },
  {
   "cell_type": "markdown",
   "id": "4eb50bf6-7799-4159-94e7-f2d4bff05e0b",
   "metadata": {},
   "source": [
    "The ships *hung in the sky* in much the same way that **bricks dont't.**<sup>1</sup><sub>QUOTE</sub>"
   ]
  },
  {
   "cell_type": "markdown",
   "id": "ac4a7a2c-020e-480f-9bb0-492857b01321",
   "metadata": {
    "scrolled": true
   },
   "source": [
    "`print(\"Hello World\")`"
   ]
  },
  {
   "cell_type": "markdown",
   "id": "fc75c63b-ab0a-400d-acc9-d063f6f76181",
   "metadata": {},
   "source": [
    "[SP2273 Website](https://sps.nus.edu.sg/sp2273)"
   ]
  },
  {
   "cell_type": "markdown",
   "id": "7026f208-6ae9-4099-ac83-ee5e5feefdca",
   "metadata": {},
   "source": [
    "![](https://nus.edu.sg/images/default-source/base/logo.png)"
   ]
  },
  {
   "cell_type": "markdown",
   "id": "0904e869-16ce-40a4-9fd8-01717e05d712",
   "metadata": {},
   "source": [
    "| A    |  B   |    C |\n",
    "| :--- | :--: | ---: |\n",
    "| a1   |  b1  |   c1 |\n",
    "| a2   |  b2  |   c2 |\n",
    "| a3   |  b3  |   c3 |"
   ]
  },
  {
   "cell_type": "markdown",
   "id": "fae1b257-229a-4918-bd48-76bbc46273cc",
   "metadata": {},
   "source": []
  },
  {
   "cell_type": "markdown",
   "id": "4d65dbe8-1d04-4830-a2ac-53a9b68a123b",
   "metadata": {},
   "source": [
    "1. Master Yoda\n",
    "1. Luke Skywalker\n",
    "1. Anakin Skywalker"
   ]
  },
  {
   "cell_type": "markdown",
   "id": "51d36aae-22ae-487b-8dcb-147f03a075fe",
   "metadata": {},
   "source": [
    "$\\sqrt{b^2-4ac}$"
   ]
  },
  {
   "cell_type": "markdown",
   "id": "46f92ca9-3f3d-4563-bf0a-e4d9e55b5493",
   "metadata": {},
   "source": [
    "$$\n",
    "x = \\dfrac{-b \\pm \\sqrt{b^2-4ac}}{2a}\n",
    "$$"
   ]
  },
  {
   "cell_type": "markdown",
   "id": "68e7e8f1-a5f4-4dc9-9110-209ebb3a6fff",
   "metadata": {},
   "source": [
    "$\n",
    "x = \\dfrac{-b \\pm \\sqrt{b^2-4ac}}{2a}\n",
    "$"
   ]
  },
  {
   "cell_type": "markdown",
   "id": "1570cd9e-51b1-4d82-bf82-b8ba2cdc06b4",
   "metadata": {},
   "source": [
    "\n",
    "$x = \\dfrac{-b \\pm \\sqrt{b^2-4ac}}{2a}$\n"
   ]
  },
  {
   "cell_type": "markdown",
   "id": "16ddea01-accb-41d9-bd28-17d92943d441",
   "metadata": {},
   "source": [
    "$$x = \\dfrac{-b \\pm \\sqrt{b^2-4ac}}{2a}$$"
   ]
  },
  {
   "cell_type": "markdown",
   "id": "20d3b720-a872-451d-9e96-22d38095d3d4",
   "metadata": {},
   "source": [
    "![](https://upload.wikimedia.org/wikipedia/commons/thumb/f/f8/Polynomialdeg2.svg/300px-Polynomialdeg2.svg.png)"
   ]
  },
  {
   "cell_type": "markdown",
   "id": "9757db7a-7cdd-415b-a1ae-876c5eb8a663",
   "metadata": {},
   "source": [
    "*p*"
   ]
  },
  {
   "cell_type": "markdown",
   "id": "14eea877-6e37-4c3a-836b-3b26b12d3474",
   "metadata": {},
   "source": [
    "# **Quadratic Equations**"
   ]
  },
  {
   "cell_type": "markdown",
   "id": "deab3127-842f-4d9c-92f6-e1d6f302ad76",
   "metadata": {},
   "source": [
    "## **Introduction**"
   ]
  },
  {
   "cell_type": "markdown",
   "id": "28005d6d-e515-4fc8-a8c2-bf263c87298e",
   "metadata": {},
   "source": [
    "![](https://upload.wikimedia.org/wikipedia/commons/thumb/f/f8/Polynomialdeg2.svg/300px-Polynomialdeg2.svg.png)"
   ]
  },
  {
   "cell_type": "markdown",
   "id": "9cd8288c-1de6-412f-aec7-72185994d576",
   "metadata": {},
   "source": [
    "*(Image from the [Wikipedia page on Quadratic Equations](https://en.wikipedia.org/wiki/Quadratic_equation))*"
   ]
  },
  {
   "cell_type": "markdown",
   "id": "3f67aa4b-41f3-4ab6-a8a4-ec48c3e8af31",
   "metadata": {},
   "source": [
    "The general form of an equation is:"
   ]
  },
  {
   "cell_type": "markdown",
   "id": "7ac34b37-1c9d-4b78-a95c-0611107dabde",
   "metadata": {},
   "source": [
    "$$ ax^2+bx+c=0 $$"
   ]
  },
  {
   "cell_type": "markdown",
   "id": "589f689f-9038-45df-80bc-616df91a53b8",
   "metadata": {},
   "source": [
    "## **Solutions**"
   ]
  },
  {
   "cell_type": "markdown",
   "id": "5b45f4e2-8cf4-4cd1-a3bc-70cd1518db52",
   "metadata": {},
   "source": [
    "Provided $a \\ne 0$, we can use an elementary algebraic method called [completeing the square](https://en.wikipedia.org/wiki/Completing_the_square) to show that a quadratic equation has the following solution:"
   ]
  },
  {
   "cell_type": "markdown",
   "id": "8e1ffd35-2410-4b06-a148-4b499eb81338",
   "metadata": {},
   "source": [
    "$$ x=\\dfrac{-b\\pm\\sqrt{b^2-4ac}}{2a} $$"
   ]
  },
  {
   "cell_type": "markdown",
   "id": "77584c74-97b5-44fb-a376-3ce27de9603d",
   "metadata": {},
   "source": [
    "## **Discriminant**"
   ]
  },
  {
   "cell_type": "markdown",
   "id": "9debfa52-0479-47f0-8485-4a9e22034f8c",
   "metadata": {},
   "source": [
    "The quantity $\\Delta=b^2-4ac$ is called the **discriminant** of the equation and decides the nature of its solutions. The table below shows the various possibilities."
   ]
  },
  {
   "cell_type": "markdown",
   "id": "dd23e596-9f00-46d4-afcb-f8e8a6b27435",
   "metadata": {},
   "source": [
    "|   |   |   |   |   |   |   **Discriminant**   |   |   | **Roots**                             |   |   |   |   |   |   |   |\r\n",
    "|---|---|---|---|---|---:---------------------:|---|----|--------------------------------------|---|---|---|---|---|---|---|\r\n",
    "|   |   |   |   |   |   |  $\\Delta=b^2-4ac=0$  |   |   | A single solution of $-b/(2a)$        |   |   |   |   |   |   |   |\r\n",
    "|   |   |   |   |   |   | $\\Delta=b^2-4ac\\gt0$ |   |   | Two distinct solutions                |   |   |   |   |   |   |   |\r\n",
    "|   |   |   |   |   |   | $\\Delta=b^2-4ac\\lt0$ |   |   | No real solutions; both are compl ex. |   |   |   |   |   |   |   |   |   |   |   |   |"
   ]
  },
  {
   "cell_type": "code",
   "execution_count": null,
   "id": "58ffb41e-251c-4dbb-b35c-1e49dac4cc44",
   "metadata": {},
   "outputs": [],
   "source": []
  }
 ],
 "metadata": {
  "kernelspec": {
   "display_name": "Python 3 (ipykernel)",
   "language": "python",
   "name": "python3"
  },
  "language_info": {
   "codemirror_mode": {
    "name": "ipython",
    "version": 3
   },
   "file_extension": ".py",
   "mimetype": "text/x-python",
   "name": "python",
   "nbconvert_exporter": "python",
   "pygments_lexer": "ipython3",
   "version": "3.11.5"
  }
 },
 "nbformat": 4,
 "nbformat_minor": 5
}
