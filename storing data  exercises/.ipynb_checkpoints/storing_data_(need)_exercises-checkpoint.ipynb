{
 "cells": [
  {
   "attachments": {},
   "cell_type": "markdown",
   "id": "123456",
   "metadata": {},
   "source": [
    "<div style=\"text-align:left;font-size:2em\"><span style=\"font-weight:bolder;font-size:1.25em\">SP2273 | Learning Portfolio</span><br><br><span style=\"font-weight:bold;color:darkred\">Storing Data (Need) Exercises</span></div>"
   ]
  },
  {
   "cell_type": "markdown",
   "id": "39065789-a653-43ff-8472-7000c1113319",
   "metadata": {},
   "source": [
    "## Exercise 1 (Total recall?) ☻"
   ]
  },
  {
   "cell_type": "markdown",
   "id": "5c3386a6-9c56-4c43-9646-aa250165597c",
   "metadata": {},
   "source": [
    "1. Two similarities between lists and arrays."
   ]
  },
  {
   "cell_type": "markdown",
   "id": "919dd45e-7366-4410-8d06-359a159b0f0d",
   "metadata": {},
   "source": [
    "lists and arrays can be used to store data AND order in which the data matters"
   ]
  },
  {
   "cell_type": "markdown",
   "id": "0fc1149f-42a3-40c6-b0b3-bfb6f9d589e4",
   "metadata": {},
   "source": [
    "2. Two differences between lists and arrays."
   ]
  },
  {
   "cell_type": "markdown",
   "id": "96e4ade9-b7a6-45c6-890a-7637a6875528",
   "metadata": {},
   "source": [
    "operations used in arrays are for individual elements while in lists, they usually involve the whole list AND lists are from python while arrays refer to numpy"
   ]
  },
  {
   "cell_type": "markdown",
   "id": "ee42df31-b543-48a2-82d9-018d0be16f4a",
   "metadata": {},
   "source": [
    "3. What is a dictionary?"
   ]
  },
  {
   "cell_type": "markdown",
   "id": "e372b26b-2444-4785-be51-0f530da94311",
   "metadata": {},
   "source": [
    "dictionary can be used to store data and has a key-value structure"
   ]
  },
  {
   "cell_type": "markdown",
   "id": "6fd44d1f-a47f-4aec-bf3b-a56b76327ecc",
   "metadata": {},
   "source": [
    "## Exercise 2 (Indexing) ☻"
   ]
  },
  {
   "cell_type": "code",
   "execution_count": 3,
   "id": "e1c8837d-8c88-4de7-a149-a0ee25f8168e",
   "metadata": {},
   "outputs": [
    {
     "name": "stdout",
     "output_type": "stream",
     "text": [
      "i9\n"
     ]
    }
   ],
   "source": [
    "py_list = [\"a1\", \"b2\", \"c3\", \"d4\", \"e5\", \"f6\", \"g7\", \"h8\", \"i9\", \"j10\"]\n",
    "                    # Prints 'a1'\n",
    "                    # Prints 'c3'\n",
    "                    # Prints 'e5'\n",
    "                    # Prints 'g7'\n",
    "print(py_list[8])   # Prints 'i9'"
   ]
  },
  {
   "cell_type": "code",
   "execution_count": 8,
   "id": "6b7dd0a7-fbe6-4f30-a216-d212bade53c5",
   "metadata": {},
   "outputs": [
    {
     "name": "stdout",
     "output_type": "stream",
     "text": [
      "a1 c3 e5 g7 i9\n"
     ]
    }
   ],
   "source": [
    "print(py_list[0], py_list[2], py_list[4], py_list[6], py_list[8]) #odd numbers are 1,3,5,7,9\n",
    "#indexing starts from 0"
   ]
  },
  {
   "cell_type": "markdown",
   "id": "330df36e-857e-403f-bc41-0873cf0a5bdd",
   "metadata": {},
   "source": [
    "## Exercise 3 (Index again) ☻"
   ]
  },
  {
   "cell_type": "code",
   "execution_count": 9,
   "id": "ac246f3f-7261-4d41-87d7-237a7d5bc7f0",
   "metadata": {},
   "outputs": [],
   "source": [
    "elements = ['Hydrogen',\n",
    "            'Helium', 'Lithium',\n",
    "            'Beryllium', 'Boron', 'Carbon',\n",
    "            'Nitrogen', 'Oxygen',\n",
    "            'Fluorine',\n",
    "            'Neon']"
   ]
  },
  {
   "cell_type": "markdown",
   "id": "f760f4a5-a2d2-4cd3-9942-19c76d7621ef",
   "metadata": {},
   "source": [
    "Access and print the element at index 4 using forward indexing."
   ]
  },
  {
   "cell_type": "code",
   "execution_count": 13,
   "id": "1929e275-4641-44bb-84b2-50cb5ea7aa72",
   "metadata": {},
   "outputs": [
    {
     "name": "stdout",
     "output_type": "stream",
     "text": [
      "Boron\n"
     ]
    }
   ],
   "source": [
    "print(elements[4]) #index 4 is boron as python is zero-indexed so its the fifth element"
   ]
  },
  {
   "cell_type": "markdown",
   "id": "a3238c42-d1ff-48e9-bde6-ec22788b8e06",
   "metadata": {},
   "source": [
    "Access and print the element at index 4 from the end of the list using reverse indexing."
   ]
  },
  {
   "cell_type": "code",
   "execution_count": 14,
   "id": "3ea170a4-6760-480a-883e-9d4fb81b07ef",
   "metadata": {},
   "outputs": [
    {
     "name": "stdout",
     "output_type": "stream",
     "text": [
      "Boron\n"
     ]
    }
   ],
   "source": [
    "print(elements[-6]) #counted from the back for reverse indexing"
   ]
  },
  {
   "cell_type": "markdown",
   "id": "75e15afe-c371-4cde-a080-b526ef46bbce",
   "metadata": {},
   "source": [
    "## Exercise 4 (How many ones) ☻"
   ]
  },
  {
   "cell_type": "code",
   "execution_count": 15,
   "id": "f5892468-3f11-426d-ae60-36676560ad52",
   "metadata": {},
   "outputs": [],
   "source": [
    "numbers=[45, 60, 1, 30, 96, 1, 96, 57, 16, 1,\n",
    "        99, 62, 86, 43, 42, 60, 59, 1, 1, 35,\n",
    "        83, 47, 34, 28, 68, 23, 22, 92, 1, 79,\n",
    "        1, 29, 94, 72, 46, 47, 1, 74, 32, 20,\n",
    "        8, 37, 35, 1, 89, 29, 86, 19, 43, 61]   "
   ]
  },
  {
   "cell_type": "code",
   "execution_count": 16,
   "id": "f4ddcf82-25fa-44ce-ac7f-cca8c1db8805",
   "metadata": {},
   "outputs": [],
   "source": [
    "import numpy as np"
   ]
  },
  {
   "cell_type": "code",
   "execution_count": 17,
   "id": "6c7e7dec-03f2-46f5-a86d-c2e0decd9717",
   "metadata": {},
   "outputs": [],
   "source": [
    "np_numbers = np.array(numbers)"
   ]
  },
  {
   "cell_type": "code",
   "execution_count": 19,
   "id": "efcbae71-a8f5-4149-a70c-7f97a4f9d0ab",
   "metadata": {},
   "outputs": [
    {
     "data": {
      "text/plain": [
       "array([False, False,  True, False, False,  True, False, False, False,\n",
       "        True, False, False, False, False, False, False, False,  True,\n",
       "        True, False, False, False, False, False, False, False, False,\n",
       "       False,  True, False,  True, False, False, False, False, False,\n",
       "        True, False, False, False, False, False, False,  True, False,\n",
       "       False, False, False, False, False])"
      ]
     },
     "execution_count": 19,
     "metadata": {},
     "output_type": "execute_result"
    }
   ],
   "source": [
    "np_numbers == 1 #following method is tedious because of counting trues"
   ]
  },
  {
   "cell_type": "markdown",
   "id": "78b8a6d8-4789-47f4-9dac-82d8513d3cd9",
   "metadata": {},
   "source": [
    "By counting the numbers of True, we can see that there are 9 Trues so 9 1"
   ]
  },
  {
   "cell_type": "code",
   "execution_count": 23,
   "id": "e87b01f3-2b8f-45d7-aa85-09ef58c838f6",
   "metadata": {},
   "outputs": [
    {
     "data": {
      "text/plain": [
       "9"
      ]
     },
     "execution_count": 23,
     "metadata": {},
     "output_type": "execute_result"
    }
   ],
   "source": [
    "sum(np_numbers == 1) #sum() can be used instead of manual counting\n",
    "#utilises that True is 1 and False is 0"
   ]
  },
  {
   "cell_type": "code",
   "execution_count": null,
   "id": "cde90737-323c-4763-b889-b228b9fcda9f",
   "metadata": {},
   "outputs": [],
   "source": []
  }
 ],
 "metadata": {
  "kernelspec": {
   "display_name": "Python 3 (ipykernel)",
   "language": "python",
   "name": "python3"
  },
  "language_info": {
   "codemirror_mode": {
    "name": "ipython",
    "version": 3
   },
   "file_extension": ".py",
   "mimetype": "text/x-python",
   "name": "python",
   "nbconvert_exporter": "python",
   "pygments_lexer": "ipython3",
   "version": "3.11.5"
  },
  "toc": {
   "base_numbering": 1,
   "nav_menu": {},
   "number_sections": true,
   "sideBar": true,
   "skip_h1_title": false,
   "title_cell": "Table of Contents",
   "title_sidebar": "Contents",
   "toc_cell": false,
   "toc_position": {},
   "toc_section_display": true,
   "toc_window_display": false
  },
  "vscode": {
   "interpreter": {
    "hash": "31f2aee4e71d21fbe5cf8b01ff0e069b9275f58929596ceb00d14d90e3e16cd6"
   }
  }
 },
 "nbformat": 4,
 "nbformat_minor": 5
}
