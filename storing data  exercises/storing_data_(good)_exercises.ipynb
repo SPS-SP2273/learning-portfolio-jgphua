{
 "cells": [
  {
   "attachments": {},
   "cell_type": "markdown",
   "id": "123456",
   "metadata": {},
   "source": [
    "<div style=\"text-align:left;font-size:2em\"><span style=\"font-weight:bolder;font-size:1.25em\">SP2273 | Learning Portfolio</span><br><br><span style=\"font-weight:bold;color:darkred\">Storing Data (Good) Exercises</span></div>"
   ]
  },
  {
   "cell_type": "markdown",
   "id": "fac45968-7465-4eca-acfc-30b5179000ba",
   "metadata": {},
   "source": [
    "## Exercise 1 (Total recall) ☻"
   ]
  },
  {
   "cell_type": "markdown",
   "id": "c739999b-3bc7-4e1a-8d0e-7902c3d45dd8",
   "metadata": {},
   "source": [
    "| **Term**   |   |          **Brief Description**          |\n",
    "|------------|---|:---------------------------------------:|\n",
    "| Subsetting |   |        Selecting a subset of data       |\n",
    "| Indexing   |   |        Selecting a single element       |\n",
    "| Slicing    |   |      Selecting a range of elements      |\n",
    "| Masking    |   | A form of subsetting used in array only, *using True/False format to only show a certain subset* |"
   ]
  },
  {
   "cell_type": "markdown",
   "id": "41ec23f7-08f3-47c3-8bb0-0a8e30b0faaf",
   "metadata": {},
   "source": [
    "## Exercise 2 (Show me the ‘odd’ letters) ☻"
   ]
  },
  {
   "cell_type": "code",
   "execution_count": 2,
   "id": "b8fd1ab3-1dbb-49db-9f9e-4b1f62247671",
   "metadata": {},
   "outputs": [],
   "source": [
    "import numpy as np"
   ]
  },
  {
   "cell_type": "code",
   "execution_count": 4,
   "id": "ca665e8a-a47f-4cdf-a643-2a3b7c4cc63a",
   "metadata": {},
   "outputs": [],
   "source": [
    "np_array_2d = np.array([[1, \"A\"], [3, \"C\"], [2, \"B\"], [4, \"D\"],\n",
    "                        [5, \"E\"], [7, \"G\"], [6, \"F\"], [8, \"H\"],\n",
    "                        [10, \"J\"], [9, \"I\"]])"
   ]
  },
  {
   "cell_type": "code",
   "execution_count": 13,
   "id": "6a8cbb3d-c326-4caf-b08d-ba9fdf968437",
   "metadata": {},
   "outputs": [
    {
     "data": {
      "text/plain": [
       "array(['1', '3', '2', '4', '5', '7', '6', '8', '10', '9'], dtype='<U11')"
      ]
     },
     "execution_count": 13,
     "metadata": {},
     "output_type": "execute_result"
    }
   ],
   "source": [
    "np_array_2d[:10,0] #list out all first elements"
   ]
  },
  {
   "cell_type": "code",
   "execution_count": 12,
   "id": "cd338cef-d9d2-49ee-8de4-567765c3f517",
   "metadata": {},
   "outputs": [
    {
     "data": {
      "text/plain": [
       "array(['1', '3', '2', '4', '5', '7', '6', '8', '10', '9'], dtype='<U11')"
      ]
     },
     "execution_count": 12,
     "metadata": {},
     "output_type": "execute_result"
    }
   ],
   "source": [
    "np_array_2d[:,0]"
   ]
  },
  {
   "cell_type": "code",
   "execution_count": 15,
   "id": "5406931e-daf9-4af9-b5a1-e3633620228d",
   "metadata": {},
   "outputs": [
    {
     "data": {
      "text/plain": [
       "array([ 1,  3,  2,  4,  5,  7,  6,  8, 10,  9])"
      ]
     },
     "execution_count": 15,
     "metadata": {},
     "output_type": "execute_result"
    }
   ],
   "source": [
    "x = np_array_2d[:10,0] #represent as x for easier representation\n",
    "x.astype(int) #astype() changes all dataset to interger"
   ]
  },
  {
   "cell_type": "code",
   "execution_count": 23,
   "id": "130b448b-b386-4fd1-a0a5-25336acb6fae",
   "metadata": {},
   "outputs": [
    {
     "data": {
      "text/plain": [
       "array([1, 1, 0, 0, 1, 1, 0, 0, 0, 1], dtype=int32)"
      ]
     },
     "execution_count": 23,
     "metadata": {},
     "output_type": "execute_result"
    }
   ],
   "source": [
    "x.astype(int)%2 # % is modulus and returns remainder"
   ]
  },
  {
   "cell_type": "code",
   "execution_count": 24,
   "id": "0581af34-4a8d-42ef-822c-c871285a6be1",
   "metadata": {},
   "outputs": [
    {
     "data": {
      "text/plain": [
       "array([ True,  True, False, False,  True,  True, False, False, False,\n",
       "        True])"
      ]
     },
     "execution_count": 24,
     "metadata": {},
     "output_type": "execute_result"
    }
   ],
   "source": [
    "y = x.astype(int)%2 \n",
    "mask = ~(y == 0) #~ to get NOT\n",
    "mask"
   ]
  },
  {
   "cell_type": "code",
   "execution_count": 16,
   "id": "cca8496c-1e17-460f-9bb7-1d6aa062816c",
   "metadata": {},
   "outputs": [
    {
     "data": {
      "text/plain": [
       "array([ True,  True, False, False,  True,  True, False, False, False,\n",
       "        True])"
      ]
     },
     "execution_count": 16,
     "metadata": {},
     "output_type": "execute_result"
    }
   ],
   "source": [
    "y = x.astype(int)%2 \n",
    "mask = (y != 0) #for y is not 0\n",
    "mask"
   ]
  },
  {
   "cell_type": "code",
   "execution_count": 25,
   "id": "2f5116ef-6469-4d03-a835-1d5d611bd9d8",
   "metadata": {
    "scrolled": true
   },
   "outputs": [
    {
     "data": {
      "text/plain": [
       "array(['A', 'C', 'E', 'G', 'I'], dtype='<U11')"
      ]
     },
     "execution_count": 25,
     "metadata": {},
     "output_type": "execute_result"
    }
   ],
   "source": [
    "np_array_2d[mask, 1]"
   ]
  }
 ],
 "metadata": {
  "kernelspec": {
   "display_name": "Python 3 (ipykernel)",
   "language": "python",
   "name": "python3"
  },
  "language_info": {
   "codemirror_mode": {
    "name": "ipython",
    "version": 3
   },
   "file_extension": ".py",
   "mimetype": "text/x-python",
   "name": "python",
   "nbconvert_exporter": "python",
   "pygments_lexer": "ipython3",
   "version": "3.11.5"
  },
  "toc": {
   "base_numbering": 1,
   "nav_menu": {},
   "number_sections": true,
   "sideBar": true,
   "skip_h1_title": false,
   "title_cell": "Table of Contents",
   "title_sidebar": "Contents",
   "toc_cell": false,
   "toc_position": {},
   "toc_section_display": true,
   "toc_window_display": false
  },
  "vscode": {
   "interpreter": {
    "hash": "31f2aee4e71d21fbe5cf8b01ff0e069b9275f58929596ceb00d14d90e3e16cd6"
   }
  }
 },
 "nbformat": 4,
 "nbformat_minor": 5
}
