{
 "cells": [
  {
   "attachments": {},
   "cell_type": "markdown",
   "id": "123456",
   "metadata": {},
   "source": [
    "<div style=\"text-align:left;font-size:2em\"><span style=\"font-weight:bolder;font-size:1.25em\">SP2273 | Learning Portfolio</span><br><br><span style=\"font-weight:bold;color:darkred\">Functions (Need) Exercises</span></div>"
   ]
  },
  {
   "cell_type": "markdown",
   "id": "f73b810a-3605-4ce3-96c5-d47ef5d0f4fb",
   "metadata": {},
   "source": [
    "## Exercise 1 (Do you know why?) ☻"
   ]
  },
  {
   "cell_type": "code",
   "execution_count": 15,
   "id": "136c5fa5-f59e-4ace-a0d7-cfdf05f94f3e",
   "metadata": {},
   "outputs": [],
   "source": [
    "def greeting(name):\n",
    "    if name == 'Batman':\n",
    "        return 'Hello Batman! So, nice to meet you!'\n",
    "    return f'Hello {name}!'"
   ]
  },
  {
   "cell_type": "code",
   "execution_count": 13,
   "id": "618860f9-0900-4451-8fb2-fec798530b0c",
   "metadata": {},
   "outputs": [
    {
     "name": "stdout",
     "output_type": "stream",
     "text": [
      "Hello bob!\n"
     ]
    }
   ],
   "source": [
    "greeting(\"bob\")"
   ]
  },
  {
   "cell_type": "code",
   "execution_count": 41,
   "id": "f180fe07-a598-44cf-a388-2fb8d374df37",
   "metadata": {},
   "outputs": [
    {
     "name": "stdout",
     "output_type": "stream",
     "text": [
      "this block was run\n",
      "Hello Batman! So, nice to meet you!\n"
     ]
    }
   ],
   "source": [
    "def greeting(name):\n",
    "    if name == 'Batman':\n",
    "        print(f'this block was run')\n",
    "        return 'Hello Batman! So, nice to meet you!'\n",
    "    print(f'that block was run')\n",
    "    return f'Hello {name}!'\n",
    "print(greeting(\"Batman\"))"
   ]
  },
  {
   "cell_type": "code",
   "execution_count": 18,
   "id": "1e79bcba-53cb-4230-bd7e-7a509ab845b6",
   "metadata": {},
   "outputs": [],
   "source": [
    "def greeting(name):\n",
    "    if name == 'Batman':\n",
    "        return 'Hello Batman! So, nice to meet you!'\n",
    "greeting(\"bob\")"
   ]
  },
  {
   "cell_type": "markdown",
   "id": "f73c8234-b28d-4a97-81a6-e3458278d1c4",
   "metadata": {},
   "source": [
    "In this case, even thought name is not Batman, there would still be an output of Hello {name}!\n",
    "This is because the return keyword was used. Return keyword allows for the value that needs to be returned if the function was used. Since the return line was found in the same code block, it would be run. However if it was on a seperate one, there would be an error.\n",
    "\n",
    "In the scenario where the name is not Batman, the if condition would not be fulfilled which without the else statement, there should be no output. However the f-string would still work as long as the greeting function was used."
   ]
  },
  {
   "cell_type": "markdown",
   "id": "6b33d882-17d0-4005-827a-cb605eecd561",
   "metadata": {},
   "source": [
    "Adding of print functions at each blocks allows you to see whether which code block was run. Based on the example, even if the if statement is not fulfilled, it will still return with Hello name. This can be seen with the print statement where the code is still ran"
   ]
  },
  {
   "cell_type": "markdown",
   "id": "2483e6d7-9020-4c46-8668-b9cb8716cc3d",
   "metadata": {},
   "source": [
    "## Exercise 2 (Chubby or not) ☻"
   ]
  },
  {
   "cell_type": "code",
   "execution_count": 10,
   "id": "caa6949c-9ed8-4123-8d86-b5ef41635112",
   "metadata": {},
   "outputs": [],
   "source": [
    "def calculate_bmi(weight, height): #most basic method. #has two parameters\n",
    "    BMI = weight / (height ** 2) #unable to ensure weight is in kg while height is in m\n",
    "    if BMI < 18.5:\n",
    "        return f\"Since your BMI is {BMI:.1f}, your BMI category is Underweight\" #.1f added to ensure that the BMI only returns up to 1dp\n",
    "    elif 18.5 <= BMI <= 24.9: #<= added to include possibility of BMI being 18.5\n",
    "        return f\"Since your BMI is {BMI:.1f}, your BMI category is Normal Weight\"\n",
    "    elif 25 <= BMI <= 29.9:\n",
    "        return f\"Since your BMI is {BMI:.1f}, your BMI category is Overweight\"\n",
    "    elif BMI >= 30:\n",
    "        return f\"Since your BMI is {BMI:.1f}, your BMI category is Obesity\""
   ]
  },
  {
   "cell_type": "code",
   "execution_count": 43,
   "id": "c7bb5f9d-9625-44bb-a03d-00e34c9172b1",
   "metadata": {},
   "outputs": [
    {
     "data": {
      "text/plain": [
       "'Since your BMI is 41.7, your BMI category is Obesity'"
      ]
     },
     "execution_count": 43,
     "metadata": {},
     "output_type": "execute_result"
    }
   ],
   "source": [
    "calculate_bmi(60, 1.2)"
   ]
  },
  {
   "cell_type": "code",
   "execution_count": 44,
   "id": "25ccbef4-2bbc-43fd-8003-a59682fbdefe",
   "metadata": {},
   "outputs": [
    {
     "data": {
      "text/plain": [
       "'Since your BMI is 41.9, your BMI category is Obesity'"
      ]
     },
     "execution_count": 44,
     "metadata": {},
     "output_type": "execute_result"
    }
   ],
   "source": [
    "calculate_bmi(60.3, 1.2)"
   ]
  },
  {
   "cell_type": "code",
   "execution_count": 52,
   "id": "5c089a53-c826-457f-a3bd-c59bfb8b5c15",
   "metadata": {},
   "outputs": [
    {
     "name": "stdout",
     "output_type": "stream",
     "text": [
      "error in height or weight, re-key\n"
     ]
    }
   ],
   "source": [
    "def calculate_bmi(weight, height): #most basic method. #has two parameters\n",
    "    '''\n",
    "    Function that calculates BMI where weight is in kg while height is in m.\n",
    "    The BMI would then be calculated and the respective BMI category is shown\n",
    "    '''\n",
    "    if height <= 0 or weight <= 0:\n",
    "      return f\"error in height or weight, re-key\"\n",
    "    BMI = weight / (height ** 2) #docstrings added to add instructions on how to use the function\n",
    "    if BMI < 18.5:\n",
    "        return f\"Since your BMI is {BMI:.1f}, your BMI category is Underweight\" #.1f added to ensure that the BMI only returns up to 1dp\n",
    "    elif 18.5 <= BMI <= 24.9: #<= added to include possibility of BMI being 18.5\n",
    "        return f\"Since your BMI is {BMI:.1f}, your BMI category is Normal Weight\"\n",
    "    elif 25 <= BMI <= 29.9:\n",
    "        return f\"Since your BMI is {BMI:.1f}, your BMI category is Overweight\"\n",
    "    elif BMI >= 30:\n",
    "        return f\"Since your BMI is {BMI:.1f}, your BMI category is Obesity\"\n",
    "print(calculate_bmi(0,1)) #need remember to print() and not rely on the inbuilt function"
   ]
  },
  {
   "cell_type": "code",
   "execution_count": 29,
   "id": "927734d9-9f3e-4ac4-b0df-5becc669e5dd",
   "metadata": {},
   "outputs": [
    {
     "name": "stdin",
     "output_type": "stream",
     "text": [
      "Enter your height in m:  3\n",
      "Enter your weight in kg:  3\n"
     ]
    },
    {
     "data": {
      "text/plain": [
       "'error in height or weight, re-key'"
      ]
     },
     "execution_count": 29,
     "metadata": {},
     "output_type": "execute_result"
    }
   ],
   "source": [
    "height = float(input(\"Enter your height in m: \")) #allows for input of parameters\n",
    "weight = float(input(\"Enter your weight in kg: \")) #wanted to incorporate either isalpha() or isunumeric() but . is not considered a numerical digit and isalpha() only excludes if all are alphabetical\n",
    "calculate_bmi(weight, height) #therefore not sure whether there is a better way to do this"
   ]
  },
  {
   "cell_type": "code",
   "execution_count": 53,
   "id": "9cd4c8fc-2491-4d7d-ae38-525137c03d0b",
   "metadata": {},
   "outputs": [
    {
     "name": "stdin",
     "output_type": "stream",
     "text": [
      "Enter your height in m:  1\n",
      "Enter your weight in kg:  e\n"
     ]
    },
    {
     "ename": "TypeError",
     "evalue": "'<=' not supported between instances of 'str' and 'int'",
     "output_type": "error",
     "traceback": [
      "\u001b[1;31m---------------------------------------------------------------------------\u001b[0m",
      "\u001b[1;31mValueError\u001b[0m                                Traceback (most recent call last)",
      "Cell \u001b[1;32mIn[53], line 3\u001b[0m\n\u001b[0;32m      2\u001b[0m height \u001b[38;5;241m=\u001b[39m \u001b[38;5;28mfloat\u001b[39m(\u001b[38;5;28minput\u001b[39m(\u001b[38;5;124m\"\u001b[39m\u001b[38;5;124mEnter your height in m: \u001b[39m\u001b[38;5;124m\"\u001b[39m))\n\u001b[1;32m----> 3\u001b[0m weight \u001b[38;5;241m=\u001b[39m \u001b[38;5;28;43mfloat\u001b[39;49m\u001b[43m(\u001b[49m\u001b[38;5;28;43minput\u001b[39;49m\u001b[43m(\u001b[49m\u001b[38;5;124;43m\"\u001b[39;49m\u001b[38;5;124;43mEnter your weight in kg: \u001b[39;49m\u001b[38;5;124;43m\"\u001b[39;49m\u001b[43m)\u001b[49m\u001b[43m)\u001b[49m \u001b[38;5;66;03m#wanted to incorporate either isalpha() or isunumeric() but . is not considered a numerical digit and isalpha() only excludes if all are alphabetical\u001b[39;00m\n\u001b[0;32m      4\u001b[0m \u001b[38;5;28mprint\u001b[39m(calculate_bmi(weight, height))\n",
      "\u001b[1;31mValueError\u001b[0m: could not convert string to float: 'e'",
      "\nDuring handling of the above exception, another exception occurred:\n",
      "\u001b[1;31mTypeError\u001b[0m                                 Traceback (most recent call last)",
      "Cell \u001b[1;32mIn[53], line 8\u001b[0m\n\u001b[0;32m      6\u001b[0m \u001b[38;5;28;01mif\u001b[39;00m height \u001b[38;5;241m<\u001b[39m\u001b[38;5;241m=\u001b[39m\u001b[38;5;241m0\u001b[39m:\n\u001b[0;32m      7\u001b[0m     \u001b[38;5;28mprint\u001b[39m(\u001b[38;5;124m\"\u001b[39m\u001b[38;5;124mPlease enter a valid height\u001b[39m\u001b[38;5;124m\"\u001b[39m) \u001b[38;5;66;03m#tried using try-except to overcome possible mistakes\u001b[39;00m\n\u001b[1;32m----> 8\u001b[0m \u001b[38;5;28;01mif\u001b[39;00m \u001b[43mweight\u001b[49m\u001b[43m \u001b[49m\u001b[38;5;241;43m<\u001b[39;49m\u001b[38;5;241;43m=\u001b[39;49m\u001b[38;5;241;43m0\u001b[39;49m:\n\u001b[0;32m      9\u001b[0m     \u001b[38;5;28mprint\u001b[39m(\u001b[38;5;124m\"\u001b[39m\u001b[38;5;124mPlease enter a valid weight\u001b[39m\u001b[38;5;124m\"\u001b[39m)\n",
      "\u001b[1;31mTypeError\u001b[0m: '<=' not supported between instances of 'str' and 'int'"
     ]
    }
   ],
   "source": [
    "try:\n",
    "    height = float(input(\"Enter your height in m: \"))\n",
    "    weight = float(input(\"Enter your weight in kg: \")) #wanted to incorporate either isalpha() or isunumeric() but . is not considered a numerical digit and isalpha() only excludes if all are alphabetical\n",
    "    print(calculate_bmi(weight, height))\n",
    "except:\n",
    "    if height <=0:\n",
    "        print(\"Please enter a valid height\") #tried using try-except to overcome possible mistakes\n",
    "    if weight <=0:\n",
    "        print(\"Please enter a valid weight\")"
   ]
  },
  {
   "cell_type": "code",
   "execution_count": 36,
   "id": "e427a324-4939-4a21-a115-ab831d09cffe",
   "metadata": {},
   "outputs": [
    {
     "name": "stdout",
     "output_type": "stream",
     "text": [
      "Since your BMI is 0.2, your BMI category is Underweight\n",
      "call it a day\n"
     ]
    }
   ],
   "source": [
    "h = 1\n",
    "w = 2\n",
    "print(calculate_bmi(h, w))\n",
    "print('call it a day')"
   ]
  },
  {
   "cell_type": "code",
   "execution_count": null,
   "id": "cdabb46b-0950-4365-8016-35263e46364b",
   "metadata": {},
   "outputs": [],
   "source": []
  }
 ],
 "metadata": {
  "kernelspec": {
   "display_name": "Python 3 (ipykernel)",
   "language": "python",
   "name": "python3"
  },
  "language_info": {
   "codemirror_mode": {
    "name": "ipython",
    "version": 3
   },
   "file_extension": ".py",
   "mimetype": "text/x-python",
   "name": "python",
   "nbconvert_exporter": "python",
   "pygments_lexer": "ipython3",
   "version": "3.11.5"
  },
  "toc": {
   "base_numbering": 1,
   "nav_menu": {},
   "number_sections": true,
   "sideBar": true,
   "skip_h1_title": false,
   "title_cell": "Table of Contents",
   "title_sidebar": "Contents",
   "toc_cell": false,
   "toc_position": {},
   "toc_section_display": true,
   "toc_window_display": false
  },
  "vscode": {
   "interpreter": {
    "hash": "31f2aee4e71d21fbe5cf8b01ff0e069b9275f58929596ceb00d14d90e3e16cd6"
   }
  }
 },
 "nbformat": 4,
 "nbformat_minor": 5
}
