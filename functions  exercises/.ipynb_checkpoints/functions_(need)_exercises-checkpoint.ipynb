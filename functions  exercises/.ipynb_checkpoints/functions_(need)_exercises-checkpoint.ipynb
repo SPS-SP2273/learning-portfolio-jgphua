{
 "cells": [
  {
   "attachments": {},
   "cell_type": "markdown",
   "id": "123456",
   "metadata": {},
   "source": [
    "<div style=\"text-align:left;font-size:2em\"><span style=\"font-weight:bolder;font-size:1.25em\">SP2273 | Learning Portfolio</span><br><br><span style=\"font-weight:bold;color:darkred\">Functions (Need) Exercises</span></div>"
   ]
  },
  {
   "cell_type": "markdown",
   "id": "f73b810a-3605-4ce3-96c5-d47ef5d0f4fb",
   "metadata": {},
   "source": [
    "## Exercise 1 (Do you know why?) ☻"
   ]
  },
  {
   "cell_type": "code",
   "execution_count": 15,
   "id": "136c5fa5-f59e-4ace-a0d7-cfdf05f94f3e",
   "metadata": {},
   "outputs": [],
   "source": [
    "def greeting(name):\n",
    "    if name == 'Batman':\n",
    "        return 'Hello Batman! So, nice to meet you!'\n",
    "    return f'Hello {name}!'"
   ]
  },
  {
   "cell_type": "code",
   "execution_count": 13,
   "id": "618860f9-0900-4451-8fb2-fec798530b0c",
   "metadata": {},
   "outputs": [
    {
     "name": "stdout",
     "output_type": "stream",
     "text": [
      "Hello bob!\n"
     ]
    }
   ],
   "source": [
    "greeting(\"bob\")"
   ]
  },
  {
   "cell_type": "code",
   "execution_count": 16,
   "id": "f180fe07-a598-44cf-a388-2fb8d374df37",
   "metadata": {},
   "outputs": [
    {
     "ename": "SyntaxError",
     "evalue": "'return' outside function (2905696842.py, line 4)",
     "output_type": "error",
     "traceback": [
      "\u001b[1;36m  Cell \u001b[1;32mIn[16], line 4\u001b[1;36m\u001b[0m\n\u001b[1;33m    return f'Hello {name}!'\u001b[0m\n\u001b[1;37m    ^\u001b[0m\n\u001b[1;31mSyntaxError\u001b[0m\u001b[1;31m:\u001b[0m 'return' outside function\n"
     ]
    }
   ],
   "source": [
    "def greeting(name):\n",
    "    if name == 'Batman':\n",
    "        return 'Hello Batman! So, nice to meet you!'\n",
    "return f'Hello {name}!'"
   ]
  },
  {
   "cell_type": "code",
   "execution_count": 18,
   "id": "1e79bcba-53cb-4230-bd7e-7a509ab845b6",
   "metadata": {},
   "outputs": [],
   "source": [
    "def greeting(name):\n",
    "    if name == 'Batman':\n",
    "        return 'Hello Batman! So, nice to meet you!'\n",
    "greeting(\"bob\")"
   ]
  },
  {
   "cell_type": "markdown",
   "id": "f73c8234-b28d-4a97-81a6-e3458278d1c4",
   "metadata": {},
   "source": [
    "In this case, even thought name is not Batman, there would still be an output of Hello {name}!\n",
    "This is because the return keyword was used. Return keyword allows for the value that needs to be returned if the function was used. Since the return line was found in the same code block, it would be run. However if it was on a seperate one, there would be an error.\n",
    "\n",
    "In the scenario where the name is not Batman, the if condition would not be fulfilled which without the else statement, there should be no output. However the f-string would still work as long as the greeting function was used."
   ]
  },
  {
   "cell_type": "markdown",
   "id": "2483e6d7-9020-4c46-8668-b9cb8716cc3d",
   "metadata": {},
   "source": [
    "## Exercise 2 (Chubby or not) ☻"
   ]
  },
  {
   "cell_type": "code",
   "execution_count": 14,
   "id": "caa6949c-9ed8-4123-8d86-b5ef41635112",
   "metadata": {},
   "outputs": [],
   "source": [
    "def calculate_bmi(weight, height): #most basic method. #has two parameters\n",
    "    BMI = weight / (height ** 2) #unable to ensure weight is in kg while height is in m\n",
    "    if BMI < 18.5:\n",
    "        return f\"Since your BMI is {BMI:.1f}, your BMI category is Underweight\" #.1f added to ensure that the BMI only returns up to 1dp\n",
    "    elif 18.5 <= BMI < 24.9: #<= added to include possibility of BMI being 18.5\n",
    "        return f\"Since your BMI is {BMI:.1f}, your BMI category is Normal Weight\"\n",
    "    elif 25 < BMI < 29.9:\n",
    "        return f\"Since your BMI is {BMI:.1f}, your BMI category is Overweight\"\n",
    "    elif BMI >= 30:\n",
    "        return f\"Since your BMI is {BMI:.1f}, your BMI category is Obesity\""
   ]
  },
  {
   "cell_type": "code",
   "execution_count": 43,
   "id": "c7bb5f9d-9625-44bb-a03d-00e34c9172b1",
   "metadata": {},
   "outputs": [
    {
     "data": {
      "text/plain": [
       "'Since your BMI is 41.7, your BMI category is Obesity'"
      ]
     },
     "execution_count": 43,
     "metadata": {},
     "output_type": "execute_result"
    }
   ],
   "source": [
    "calculate_bmi(60, 1.2)"
   ]
  },
  {
   "cell_type": "code",
   "execution_count": 44,
   "id": "25ccbef4-2bbc-43fd-8003-a59682fbdefe",
   "metadata": {},
   "outputs": [
    {
     "data": {
      "text/plain": [
       "'Since your BMI is 41.9, your BMI category is Obesity'"
      ]
     },
     "execution_count": 44,
     "metadata": {},
     "output_type": "execute_result"
    }
   ],
   "source": [
    "calculate_bmi(60.3, 1.2)"
   ]
  },
  {
   "cell_type": "code",
   "execution_count": 9,
   "id": "5c089a53-c826-457f-a3bd-c59bfb8b5c15",
   "metadata": {},
   "outputs": [],
   "source": [
    "def calculate_bmi(weight, height): #most basic method. #has two parameters\n",
    "    '''\n",
    "    Function that calculates BMI where weight is in kg while height is in m.\n",
    "    The BMI would then be calculated and the respective BMI category is shown\n",
    "    '''\n",
    "    BMI = weight / (height ** 2) #docstrings added to add instructions on how to use the function\n",
    "    if BMI < 18.5:\n",
    "        return f\"Since your BMI is {BMI:.1f}, your BMI category is Underweight\" #.1f added to ensure that the BMI only returns up to 1dp\n",
    "    elif 18.5 <= BMI < 24.9: #<= added to include possibility of BMI being 18.5\n",
    "        return f\"Since your BMI is {BMI:.1f}, your BMI category is Normal Weight\"\n",
    "    elif 25 < BMI < 29.9:\n",
    "        return f\"Since your BMI is {BMI:.1f}, your BMI category is Overweight\"\n",
    "    elif BMI >= 30:\n",
    "        return f\"Since your BMI is {BMI:.1f}, your BMI category is Obesity\""
   ]
  },
  {
   "cell_type": "code",
   "execution_count": 13,
   "id": "927734d9-9f3e-4ac4-b0df-5becc669e5dd",
   "metadata": {},
   "outputs": [
    {
     "name": "stdin",
     "output_type": "stream",
     "text": [
      "Enter your height in m:  45\n",
      "Enter your weight in kg:  34\n"
     ]
    },
    {
     "data": {
      "text/plain": [
       "'Since your BMI is 0.0, your BMI category is Underweight'"
      ]
     },
     "execution_count": 13,
     "metadata": {},
     "output_type": "execute_result"
    }
   ],
   "source": [
    "height = float(input(\"Enter your height in m: \")) #allows for input of parameters\n",
    "weight = float(input(\"Enter your weight in kg: \")) #wanted to incorporate either isalpha() or isunumeric() but . is not considered a numerical digit and isalpha() only excludes if all are alphabetical\n",
    "calculate_bmi(weight, height)"
   ]
  },
  {
   "cell_type": "code",
   "execution_count": null,
   "id": "81ec70aa-eea6-49c0-803c-d0bd1ee8e37d",
   "metadata": {},
   "outputs": [],
   "source": []
  }
 ],
 "metadata": {
  "kernelspec": {
   "display_name": "Python 3 (ipykernel)",
   "language": "python",
   "name": "python3"
  },
  "language_info": {
   "codemirror_mode": {
    "name": "ipython",
    "version": 3
   },
   "file_extension": ".py",
   "mimetype": "text/x-python",
   "name": "python",
   "nbconvert_exporter": "python",
   "pygments_lexer": "ipython3",
   "version": "3.11.5"
  },
  "toc": {
   "base_numbering": 1,
   "nav_menu": {},
   "number_sections": true,
   "sideBar": true,
   "skip_h1_title": false,
   "title_cell": "Table of Contents",
   "title_sidebar": "Contents",
   "toc_cell": false,
   "toc_position": {},
   "toc_section_display": true,
   "toc_window_display": false
  },
  "vscode": {
   "interpreter": {
    "hash": "31f2aee4e71d21fbe5cf8b01ff0e069b9275f58929596ceb00d14d90e3e16cd6"
   }
  }
 },
 "nbformat": 4,
 "nbformat_minor": 5
}
