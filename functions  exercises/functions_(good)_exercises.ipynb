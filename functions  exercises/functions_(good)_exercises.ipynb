{
 "cells": [
  {
   "attachments": {},
   "cell_type": "markdown",
   "id": "123456",
   "metadata": {},
   "source": [
    "<div style=\"text-align:left;font-size:2em\"><span style=\"font-weight:bolder;font-size:1.25em\">SP2273 | Learning Portfolio</span><br><br><span style=\"font-weight:bold;color:darkred\">Functions (Good) Exercises</span></div>"
   ]
  },
  {
   "cell_type": "markdown",
   "id": "1001fab1-56ab-4adf-9734-8fff222998d0",
   "metadata": {},
   "source": [
    "## Exercise 1 (Celsius to Fahrenheit or Kelvin) ☻"
   ]
  },
  {
   "cell_type": "code",
   "execution_count": 43,
   "id": "fcfab626-e643-49d1-b265-cc62f936e5c9",
   "metadata": {},
   "outputs": [],
   "source": [
    "def convert_celsius(temperature_celsius, target_scale=\"Fahrenheit\"): #if target scale is blank, default to farenheit\n",
    "    if target_scale == \"Fahrenheit\":\n",
    "        temperature_farenheit = (temperature_celsius * 9/5) + 32 #conversion to farenheit\n",
    "        print(f\"The temperature is {temperature_farenheit}F\")\n",
    "        return temperature_farenheit #use this instead of just return \n",
    "    if target_scale == \"Kelvin\":\n",
    "        temperature_kelvin = (temperature_celsius + 273.15) #conversion to kelvin\n",
    "        print(f\" The temperature is {temperature_kelvin}K\")\n",
    "        return temperature_kelvin\n",
    "    else:\n",
    "        print(\"target_scale should be either Fahrenheit or Kelvin\")"
   ]
  },
  {
   "cell_type": "code",
   "execution_count": 44,
   "id": "5b33e4df-cc15-4665-ab6e-4184f06f02cb",
   "metadata": {},
   "outputs": [
    {
     "name": "stdout",
     "output_type": "stream",
     "text": [
      "The temperature is 89.6F\n",
      "89.6\n"
     ]
    }
   ],
   "source": [
    "print(convert_celsius(32)) # instead of None, there is a value in the output to be used"
   ]
  },
  {
   "cell_type": "code",
   "execution_count": 25,
   "id": "7571d8f8-cb3d-4707-b125-27d82544123e",
   "metadata": {},
   "outputs": [
    {
     "name": "stdout",
     "output_type": "stream",
     "text": [
      "The temperature is 89.6F\n"
     ]
    }
   ],
   "source": [
    "convert_celsius(32) # if without indicating fahrenheit, the default target_scale is Fahrenheit"
   ]
  },
  {
   "cell_type": "code",
   "execution_count": 28,
   "id": "4d5d3be6-8074-4587-b091-14c397bf7758",
   "metadata": {},
   "outputs": [
    {
     "ename": "NameError",
     "evalue": "name 'Kelvin' is not defined",
     "output_type": "error",
     "traceback": [
      "\u001b[1;31m---------------------------------------------------------------------------\u001b[0m",
      "\u001b[1;31mNameError\u001b[0m                                 Traceback (most recent call last)",
      "Cell \u001b[1;32mIn[28], line 1\u001b[0m\n\u001b[1;32m----> 1\u001b[0m convert_celsius(\u001b[38;5;241m40\u001b[39m, \u001b[43mKelvin\u001b[49m)\n",
      "\u001b[1;31mNameError\u001b[0m: name 'Kelvin' is not defined"
     ]
    }
   ],
   "source": [
    "convert_celsius(40, Kelvin) #will not work without \"\""
   ]
  },
  {
   "cell_type": "code",
   "execution_count": 29,
   "id": "c2127592-c635-46f4-8f09-3abea4cc3eaf",
   "metadata": {},
   "outputs": [
    {
     "name": "stdout",
     "output_type": "stream",
     "text": [
      " The temperature is 313.15K\n"
     ]
    }
   ],
   "source": [
    "convert_celsius(40, \"Kelvin\") "
   ]
  },
  {
   "cell_type": "markdown",
   "id": "a921ac4b-6767-47f0-af0a-5ec4fbb9a6de",
   "metadata": {},
   "source": [
    "## Exercise 2 (Fahrenheit to Celsius or Kelvin) ☻"
   ]
  },
  {
   "cell_type": "code",
   "execution_count": 46,
   "id": "a6402126-32fe-40b4-b205-cd70cf4fa1d9",
   "metadata": {},
   "outputs": [],
   "source": [
    "def convert_fahrenheit(temperature_fahrenheit, target_scale=\"Celsius\"):\n",
    "    if target_scale == \"Celsius\":\n",
    "        temperature_celsius = (temperature_fahrenheit - 32) * 5/9 #conversion to celsius\n",
    "        print(f\"The temperature is {temperature_celsius}°C)\")\n",
    "        return temperature_celsius\n",
    "    if target_scale == \"Kelvin\":\n",
    "        temperature_kelvin = (temperature_fahrenheit - 32) * 5/9 + 273.15\n",
    "        print(f\"The temperature is {temperature_kelvin}K\")\n",
    "        return temperature_kelvin\n",
    "    else:\n",
    "        print(\"target_scale should be either Celsius or Kelvin\")"
   ]
  },
  {
   "cell_type": "code",
   "execution_count": 65,
   "id": "bb28a4ac-845f-4348-b05c-0fe704fd82f3",
   "metadata": {},
   "outputs": [
    {
     "name": "stdout",
     "output_type": "stream",
     "text": [
      "The temperature is 1.1111111111111112°C)\n"
     ]
    }
   ],
   "source": [
    "convert_fahrenheit(34) #will want to reduce dp"
   ]
  },
  {
   "cell_type": "code",
   "execution_count": 55,
   "id": "9f8f0d4a-fe42-478e-91b4-24b260c39e14",
   "metadata": {},
   "outputs": [],
   "source": [
    "def convert_fahrenheit(temperature_fahrenheit, target_scale=\"Celsius\"):\n",
    "    if target_scale == \"Celsius\":\n",
    "        temperature_celsius = (temperature_fahrenheit - 32) * 5/9\n",
    "        print(f\"The temperature is {temperature_celsius:.2f}°C\")\n",
    "        return temperature_celsius\n",
    "    if target_scale == \"Kelvin\":\n",
    "        temperature_kelvin = (temperature_fahrenheit - 32) * 5/9 + 273.15\n",
    "        print(f\"The temperature is {temperature_kelvin:.2f}K\")\n",
    "        return temperature_kelvin\n",
    "    else:\n",
    "        print(\"target_scale should be either Celsius or Kelvin\")"
   ]
  },
  {
   "cell_type": "code",
   "execution_count": 117,
   "id": "fcd5e6d7-75d0-498c-885c-a883e359f67d",
   "metadata": {},
   "outputs": [
    {
     "name": "stdout",
     "output_type": "stream",
     "text": [
      "The temperature is 1.11°C\n"
     ]
    }
   ],
   "source": [
    "convert_fahrenheit(34) "
   ]
  },
  {
   "cell_type": "code",
   "execution_count": 56,
   "id": "2d40394a-1ce5-4e79-b5a0-9bc5ebbc6501",
   "metadata": {},
   "outputs": [
    {
     "name": "stdout",
     "output_type": "stream",
     "text": [
      "The temperature is 274.26K\n"
     ]
    },
    {
     "data": {
      "text/plain": [
       "274.26111111111106"
      ]
     },
     "execution_count": 56,
     "metadata": {},
     "output_type": "execute_result"
    }
   ],
   "source": [
    "convert_fahrenheit(34, \"Kelvin\")"
   ]
  },
  {
   "cell_type": "markdown",
   "id": "5cb5a3fd-7f89-4a30-a83f-767ffcae1a56",
   "metadata": {},
   "source": [
    "## Exercise 3 (General Temperature Conversion) ☻"
   ]
  },
  {
   "cell_type": "code",
   "execution_count": 49,
   "id": "86713df7-2b00-4ac6-b745-71fab4c6430b",
   "metadata": {},
   "outputs": [],
   "source": [
    "def convert_kelvin(temperature_kelvin, target_scale = \"Celsius\"):\n",
    "    if temperature_kelvin <0:\n",
    "        print(\"The lowest value on the Kelvin Scale is 0, reinput\") \n",
    "        return\n",
    "    if target_scale == \"Celsius\":\n",
    "        temperature_celsius = (temperature_kelvin - 273.15)\n",
    "        print(f\"The temperature is {temperature_celsius:.2f}°C\") #.2f to make the output neater\n",
    "        return temperature_celsius\n",
    "    if target_scale == \"Fahrenheit\":\n",
    "        temperature_fahrenheit = (temperature_kelvin - 273.15) * 9/5 + 32\n",
    "        print(f\"The temperature is {temperature_fahrenheit:.2f}F\")\n",
    "        return temperature_fahrenheit\n",
    "    else:\n",
    "        print(\"target_scale should be either Celsius or Fahrenheit\") #if typed wrongly"
   ]
  },
  {
   "cell_type": "code",
   "execution_count": 25,
   "id": "2ccaaa75-1179-4745-a0ef-08e372588d04",
   "metadata": {},
   "outputs": [
    {
     "name": "stdout",
     "output_type": "stream",
     "text": [
      "The temperature is -241.15°C\n"
     ]
    }
   ],
   "source": [
    "convert_kelvin(32, \"Celsius\")"
   ]
  },
  {
   "cell_type": "code",
   "execution_count": 26,
   "id": "d1ebab1d-2676-454c-8ee3-d346f1eb72bf",
   "metadata": {},
   "outputs": [],
   "source": [
    "def convert_temperature(temperature, source_scale, target_scale):\n",
    "    if source_scale == \"Fahrenheit\":\n",
    "        return convert_fahrenheit(temperature_fahrenheit=temperature, target_scale=target_scale) #keyword\n",
    "    if source_scale == \"Celsius\":\n",
    "        return convert_celsius(temperature_celsius=temperature, target_scale=target_scale)\n",
    "    if source_scale == \"Kelvin\":\n",
    "        return convert_kelvin(temperature_kelvin=temperature, target_scale=target_scale) #using function from above"
   ]
  },
  {
   "cell_type": "code",
   "execution_count": 27,
   "id": "fa2fb0de-750e-4b69-a334-3a1613efe9e6",
   "metadata": {},
   "outputs": [
    {
     "name": "stdout",
     "output_type": "stream",
     "text": [
      "The temperature is -16.11°C\n"
     ]
    }
   ],
   "source": [
    "convert_temperature(3, \"Fahrenheit\", \"Celsius\")"
   ]
  },
  {
   "cell_type": "code",
   "execution_count": 28,
   "id": "be525e8f-af03-483a-8239-1daa75c9ef9e",
   "metadata": {},
   "outputs": [
    {
     "name": "stdout",
     "output_type": "stream",
     "text": [
      "The temperature is -241.15°C\n"
     ]
    }
   ],
   "source": [
    "convert_temperature(32, \"Kelvin\", \"Celsius\")"
   ]
  },
  {
   "cell_type": "code",
   "execution_count": 29,
   "id": "c514ae76-31fb-4536-aaf3-ffb58a8c3baa",
   "metadata": {},
   "outputs": [
    {
     "name": "stdout",
     "output_type": "stream",
     "text": [
      "target_scale should be either Celsius or Fahrenheit\n"
     ]
    }
   ],
   "source": [
    "convert_temperature(32, \"Kelvin\", \"Kelvin\")"
   ]
  },
  {
   "cell_type": "code",
   "execution_count": 30,
   "id": "05c12353-7193-4286-8ccb-d50240bfceb6",
   "metadata": {},
   "outputs": [
    {
     "name": "stdout",
     "output_type": "stream",
     "text": [
      "The lowest value on the Kelvin Scale is 0, reinput\n"
     ]
    }
   ],
   "source": [
    "convert_temperature(-32, \"Kelvin\", \"Celsius\")"
   ]
  }
 ],
 "metadata": {
  "kernelspec": {
   "display_name": "Python 3 (ipykernel)",
   "language": "python",
   "name": "python3"
  },
  "language_info": {
   "codemirror_mode": {
    "name": "ipython",
    "version": 3
   },
   "file_extension": ".py",
   "mimetype": "text/x-python",
   "name": "python",
   "nbconvert_exporter": "python",
   "pygments_lexer": "ipython3",
   "version": "3.11.5"
  },
  "toc": {
   "base_numbering": 1,
   "nav_menu": {},
   "number_sections": true,
   "sideBar": true,
   "skip_h1_title": false,
   "title_cell": "Table of Contents",
   "title_sidebar": "Contents",
   "toc_cell": false,
   "toc_position": {},
   "toc_section_display": true,
   "toc_window_display": false
  },
  "vscode": {
   "interpreter": {
    "hash": "31f2aee4e71d21fbe5cf8b01ff0e069b9275f58929596ceb00d14d90e3e16cd6"
   }
  }
 },
 "nbformat": 4,
 "nbformat_minor": 5
}
