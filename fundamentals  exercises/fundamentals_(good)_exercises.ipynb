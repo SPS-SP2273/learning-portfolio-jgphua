{
 "cells": [
  {
   "attachments": {},
   "cell_type": "markdown",
   "id": "123456",
   "metadata": {},
   "source": [
    "<div style=\"text-align:left;font-size:2em\"><span style=\"font-weight:bolder;font-size:1.25em\">SP2273 | Learning Portfolio</span><br><br><span style=\"font-weight:bold;color:darkred\">Fundamentals (Good) Exercises</span></div>"
   ]
  },
  {
   "cell_type": "code",
   "execution_count": 1,
   "id": "f0473bea-334c-44f5-80a4-34ec5def0a80",
   "metadata": {},
   "outputs": [
    {
     "name": "stdin",
     "output_type": "stream",
     "text": [
      "Give me a number? 4\n"
     ]
    },
    {
     "name": "stdout",
     "output_type": "stream",
     "text": [
      "You entered 4\n"
     ]
    }
   ],
   "source": [
    "user_input = input('Give me a number?')\n",
    "print('You entered', user_input)"
   ]
  },
  {
   "cell_type": "code",
   "execution_count": 2,
   "id": "a8c211c0-d992-43d1-a98f-fe6ac50828d8",
   "metadata": {},
   "outputs": [
    {
     "name": "stdin",
     "output_type": "stream",
     "text": [
      "Enter the student's score: 89\n"
     ]
    },
    {
     "name": "stdout",
     "output_type": "stream",
     "text": [
      "The student's grade is: A\n"
     ]
    }
   ],
   "source": [
    "student_score = input('Enter the student\\'s score:') # escape sequence (\\) is needed to show 's\n",
    "if 70 <= int(student_score) <= 100: # required to change to int() as we cannot compare string with numbers\n",
    "    print(\"The student's grade is: A\")\n",
    "elif 50 <= int(student_score) <= 69:\n",
    "    print(\"The student's grade is: B\")\n",
    "elif 35 <= int(student_score) <= 49:\n",
    "    print(\"The student's grade is: C\")\n",
    "elif 0 <= int(student_score) <= 34:\n",
    "    print(\"The student's grade is: FAIL\")"
   ]
  },
  {
   "cell_type": "code",
   "execution_count": 16,
   "id": "56fe3c91-1f24-4a8c-ba90-b5457664e2f7",
   "metadata": {},
   "outputs": [
    {
     "name": "stdin",
     "output_type": "stream",
     "text": [
      "Enter the student's score: 12\n"
     ]
    },
    {
     "name": "stdout",
     "output_type": "stream",
     "text": [
      "The student's grade is: FAIL\n"
     ]
    }
   ],
   "source": [
    "student_score = input('Enter the student\\'s score:') # escape sequence (\\) is needed to show 's\n",
    "if int(student_score) < 0 or int(student_score) > 100: # added to prevent input of an invalid score\n",
    "    print(\"Please input a valid score\")\n",
    "elif 70 <= int(student_score) <= 100: # required to change to int() as we cannot compare string with numbers\n",
    "    print(\"The student's grade is: A\")\n",
    "elif 50 <= int(student_score) <= 69:\n",
    "    print(\"The student's grade is: B\")\n",
    "elif 35 <= int(student_score) <= 49:\n",
    "    print(\"The student's grade is: C\")\n",
    "else: # added to simplify \n",
    "    print(\"The student's grade is: FAIL\")"
   ]
  },
  {
   "cell_type": "code",
   "execution_count": null,
   "id": "016ab246-196e-43c0-b3a2-6c9b8970212b",
   "metadata": {},
   "outputs": [],
   "source": []
  }
 ],
 "metadata": {
  "kernelspec": {
   "display_name": "Python 3 (ipykernel)",
   "language": "python",
   "name": "python3"
  },
  "language_info": {
   "codemirror_mode": {
    "name": "ipython",
    "version": 3
   },
   "file_extension": ".py",
   "mimetype": "text/x-python",
   "name": "python",
   "nbconvert_exporter": "python",
   "pygments_lexer": "ipython3",
   "version": "3.11.5"
  },
  "toc": {
   "base_numbering": 1,
   "nav_menu": {},
   "number_sections": true,
   "sideBar": true,
   "skip_h1_title": false,
   "title_cell": "Table of Contents",
   "title_sidebar": "Contents",
   "toc_cell": false,
   "toc_position": {},
   "toc_section_display": true,
   "toc_window_display": false
  },
  "vscode": {
   "interpreter": {
    "hash": "31f2aee4e71d21fbe5cf8b01ff0e069b9275f58929596ceb00d14d90e3e16cd6"
   }
  }
 },
 "nbformat": 4,
 "nbformat_minor": 5
}
