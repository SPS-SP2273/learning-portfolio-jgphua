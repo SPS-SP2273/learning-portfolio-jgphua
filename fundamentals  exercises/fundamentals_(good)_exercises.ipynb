{
 "cells": [
  {
   "attachments": {},
   "cell_type": "markdown",
   "id": "123456",
   "metadata": {},
   "source": [
    "<div style=\"text-align:left;font-size:2em\"><span style=\"font-weight:bolder;font-size:1.25em\">SP2273 | Learning Portfolio</span><br><br><span style=\"font-weight:bold;color:darkred\">Fundamentals (Good) Exercises</span></div>"
   ]
  },
  {
   "cell_type": "code",
   "execution_count": 1,
   "id": "f0473bea-334c-44f5-80a4-34ec5def0a80",
   "metadata": {},
   "outputs": [
    {
     "name": "stdin",
     "output_type": "stream",
     "text": [
      "Give me a number? 4\n"
     ]
    },
    {
     "name": "stdout",
     "output_type": "stream",
     "text": [
      "You entered 4\n"
     ]
    }
   ],
   "source": [
    "user_input = input('Give me a number?')\n",
    "print('You entered', user_input)"
   ]
  },
  {
   "cell_type": "code",
   "execution_count": 2,
   "id": "a8c211c0-d992-43d1-a98f-fe6ac50828d8",
   "metadata": {},
   "outputs": [
    {
     "name": "stdin",
     "output_type": "stream",
     "text": [
      "Enter the student's score: 89\n"
     ]
    },
    {
     "name": "stdout",
     "output_type": "stream",
     "text": [
      "The student's grade is: A\n"
     ]
    }
   ],
   "source": [
    "student_score = input('Enter the student\\'s score:') # escape sequence (\\) is needed to show 's\n",
    "if 70 <= int(student_score) <= 100: # required to change to int() as we cannot compare string with numbers\n",
    "    print(\"The student's grade is: A\")\n",
    "elif 50 <= int(student_score) <= 69:\n",
    "    print(\"The student's grade is: B\")\n",
    "elif 35 <= int(student_score) <= 49:\n",
    "    print(\"The student's grade is: C\")\n",
    "elif 0 <= int(student_score) <= 34:\n",
    "    print(\"The student's grade is: FAIL\")"
   ]
  },
  {
   "cell_type": "code",
   "execution_count": 13,
   "id": "56fe3c91-1f24-4a8c-ba90-b5457664e2f7",
   "metadata": {},
   "outputs": [
    {
     "name": "stdin",
     "output_type": "stream",
     "text": [
      "Enter the student's score: 56.5\n"
     ]
    },
    {
     "ename": "ValueError",
     "evalue": "invalid literal for int() with base 10: '56.5'",
     "output_type": "error",
     "traceback": [
      "\u001b[1;31m---------------------------------------------------------------------------\u001b[0m",
      "\u001b[1;31mValueError\u001b[0m                                Traceback (most recent call last)",
      "Cell \u001b[1;32mIn[13], line 2\u001b[0m\n\u001b[0;32m      1\u001b[0m student_score \u001b[38;5;241m=\u001b[39m \u001b[38;5;28minput\u001b[39m(\u001b[38;5;124m'\u001b[39m\u001b[38;5;124mEnter the student\u001b[39m\u001b[38;5;130;01m\\'\u001b[39;00m\u001b[38;5;124ms score:\u001b[39m\u001b[38;5;124m'\u001b[39m) \u001b[38;5;66;03m# escape sequence (\\) is needed to show 's\u001b[39;00m\n\u001b[1;32m----> 2\u001b[0m \u001b[38;5;28;01mif\u001b[39;00m \u001b[38;5;28;43mint\u001b[39;49m\u001b[43m(\u001b[49m\u001b[43mstudent_score\u001b[49m\u001b[43m)\u001b[49m \u001b[38;5;241m<\u001b[39m \u001b[38;5;241m0\u001b[39m \u001b[38;5;129;01mor\u001b[39;00m \u001b[38;5;28mint\u001b[39m(student_score) \u001b[38;5;241m>\u001b[39m \u001b[38;5;241m100\u001b[39m: \u001b[38;5;66;03m# added to prevent input of an invalid score\u001b[39;00m\n\u001b[0;32m      3\u001b[0m     \u001b[38;5;28mprint\u001b[39m(\u001b[38;5;124m\"\u001b[39m\u001b[38;5;124mPlease input a valid score\u001b[39m\u001b[38;5;124m\"\u001b[39m)\n\u001b[0;32m      4\u001b[0m \u001b[38;5;28;01melif\u001b[39;00m \u001b[38;5;241m70\u001b[39m \u001b[38;5;241m<\u001b[39m\u001b[38;5;241m=\u001b[39m \u001b[38;5;28mint\u001b[39m(student_score) \u001b[38;5;241m<\u001b[39m\u001b[38;5;241m=\u001b[39m \u001b[38;5;241m100\u001b[39m: \u001b[38;5;66;03m# required to change to int() as we cannot compare string with numbers\u001b[39;00m\n",
      "\u001b[1;31mValueError\u001b[0m: invalid literal for int() with base 10: '56.5'"
     ]
    }
   ],
   "source": [
    "student_score = input('Enter the student\\'s score:') # escape sequence (\\) is needed to show 's\n",
    "if int(student_score) < 0 or int(student_score) > 100: # added to prevent input of an invalid score\n",
    "    print(\"Please input a valid score\")\n",
    "elif 70 <= int(student_score) <= 100: # required to change to int() as we cannot compare string with numbers\n",
    "    print(\"The student's grade is: A\")\n",
    "elif 50 <= int(student_score) <= 69:\n",
    "    print(\"The student's grade is: B\")\n",
    "elif 35 <= int(student_score) <= 49:\n",
    "    print(\"The student's grade is: C\")\n",
    "else: # added to simplify \n",
    "    print(\"The student's grade is: FAIL\")"
   ]
  },
  {
   "cell_type": "code",
   "execution_count": 17,
   "id": "f8122d07-e5c3-4f89-8a5a-4be26724be7e",
   "metadata": {},
   "outputs": [
    {
     "name": "stdin",
     "output_type": "stream",
     "text": [
      "Enter the student's score: 67.3\n"
     ]
    },
    {
     "name": "stdout",
     "output_type": "stream",
     "text": [
      "The student's grade is: B\n"
     ]
    }
   ],
   "source": [
    "student_score = input('Enter the student\\'s score:')# escape sequence (\\) is needed to show 's\n",
    "student_score = float(student_score)\n",
    "if student_score < 0 or student_score > 100: # added to prevent input of an invalid score\n",
    "    print(\"Please input a valid score\")\n",
    "elif 70 <= student_score <= 100: # required to change to int() as we cannot compare string with numbers\n",
    "    print(\"The student's grade is: A\")\n",
    "elif 50 <= student_score <= 69:\n",
    "    print(\"The student's grade is: B\")\n",
    "elif 35 <= student_score <= 49:\n",
    "    print(\"The student's grade is: C\")\n",
    "else: # added to simplify \n",
    "    print(\"The student's grade is: FAIL\")"
   ]
  },
  {
   "cell_type": "code",
   "execution_count": null,
   "id": "2cbfadc5-e8ab-4e2f-b320-7a8884fad4a5",
   "metadata": {},
   "outputs": [],
   "source": []
  }
 ],
 "metadata": {
  "kernelspec": {
   "display_name": "Python 3 (ipykernel)",
   "language": "python",
   "name": "python3"
  },
  "language_info": {
   "codemirror_mode": {
    "name": "ipython",
    "version": 3
   },
   "file_extension": ".py",
   "mimetype": "text/x-python",
   "name": "python",
   "nbconvert_exporter": "python",
   "pygments_lexer": "ipython3",
   "version": "3.11.5"
  },
  "toc": {
   "base_numbering": 1,
   "nav_menu": {},
   "number_sections": true,
   "sideBar": true,
   "skip_h1_title": false,
   "title_cell": "Table of Contents",
   "title_sidebar": "Contents",
   "toc_cell": false,
   "toc_position": {},
   "toc_section_display": true,
   "toc_window_display": false
  },
  "vscode": {
   "interpreter": {
    "hash": "31f2aee4e71d21fbe5cf8b01ff0e069b9275f58929596ceb00d14d90e3e16cd6"
   }
  }
 },
 "nbformat": 4,
 "nbformat_minor": 5
}
