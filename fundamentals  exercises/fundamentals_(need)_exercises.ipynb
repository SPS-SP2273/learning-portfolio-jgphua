{
 "cells": [
  {
   "attachments": {},
   "cell_type": "markdown",
   "id": "123456",
   "metadata": {},
   "source": [
    "<div style=\"text-align:left;font-size:2em\"><span style=\"font-weight:bolder;font-size:1.25em\">SP2273 | Learning Portfolio</span><br><br><span style=\"font-weight:bold;color:darkred\">Fundamentals (Need) Exercises</span></div>"
   ]
  },
  {
   "cell_type": "markdown",
   "id": "1654caee-82af-4fb4-bb80-c83564c7a6e4",
   "metadata": {},
   "source": [
    "### Exercise 1 (Total recall?) ☻"
   ]
  },
  {
   "cell_type": "markdown",
   "id": "b21efa4f-f3a0-47c9-9723-ce27a7adb3eb",
   "metadata": {},
   "source": [
    "1. Ability to use functions like print() and arguments to run a code\n",
    "2. Importing packages like numpy\n",
    "3. Python is caps-sensitive\n",
    "4. Spaces are important\n",
    "5. *Python reads codes line by line*\n",
    "6. *Comments can be added after #, which would not be read as code*\n",
    "7. *= does not mean == (= means equal while == is used to check whether they are the same)*\n",
    "8. *Use if or else to test conditions and the result will return true/false*\n",
    "9. *You can use anything for a variable eg. student_score = 76 (but preferably something that is easily understood and relevant to the variable)* \n",
    "10. *There are various brackets that can be used in python which have different meanings ()[]{}*\n",
    "11. *The dot(.) is used to show ownership of the function to a module (math.sqrt())*"
   ]
  },
  {
   "cell_type": "markdown",
   "id": "23746804-f8ca-457a-a591-bf49fb76d5b8",
   "metadata": {},
   "source": [
    "### Exercise 2 (Debug me) ☻"
   ]
  },
  {
   "cell_type": "code",
   "execution_count": 3,
   "id": "79e61cd8-99b2-4def-be18-2c98aae8690a",
   "metadata": {},
   "outputs": [
    {
     "ename": "IndentationError",
     "evalue": "unindent does not match any outer indentation level (<tokenize>, line 3)",
     "output_type": "error",
     "traceback": [
      "\u001b[1;36m  File \u001b[1;32m<tokenize>:3\u001b[1;36m\u001b[0m\n\u001b[1;33m    Print(x, y, z)\u001b[0m\n\u001b[1;37m    ^\u001b[0m\n\u001b[1;31mIndentationError\u001b[0m\u001b[1;31m:\u001b[0m unindent does not match any outer indentation level\n"
     ]
    }
   ],
   "source": [
    "x, y = 3, 4\n",
    "        z = sqrt(x*2 + y**2)\n",
    "    Print(x, y, z)"
   ]
  },
  {
   "cell_type": "code",
   "execution_count": 11,
   "id": "519287b2-a260-4b58-8e32-f8af634c98bf",
   "metadata": {},
   "outputs": [],
   "source": [
    "import math #math added for sqrt function"
   ]
  },
  {
   "cell_type": "code",
   "execution_count": 12,
   "id": "fac7e37a-f3da-43d3-93bc-83ffb5fcdaae",
   "metadata": {},
   "outputs": [
    {
     "name": "stdout",
     "output_type": "stream",
     "text": [
      "3 4 5.0\n"
     ]
    }
   ],
   "source": [
    "x, y = 3, 4 \n",
    "z = math.sqrt(x**2 + y**2) #added math to use sqrt, added ** to square\n",
    "print(x, y, z) #changed p to lower case"
   ]
  },
  {
   "cell_type": "markdown",
   "id": "c2bbf1b2-35f9-4c2d-9de1-0267e0016413",
   "metadata": {},
   "source": [
    "### Exercise 3 (In your own words) ☻\n",
    "\n",
    "Using your own words, write a single sentence to describe what each of the following means or the role they serve in Python.\n",
    "\n",
    "Please use a Markdown table for this."
   ]
  },
  {
   "cell_type": "markdown",
   "id": "05b5de7e-0597-442b-87ae-bf873a46688b",
   "metadata": {},
   "source": [
    "|  # | Term         | Description                                                                              |\n",
    "|:--:|--------------|------------------------------------------------------------------------------------------|\n",
    "|  1 | Function     | Something that executes a specific task                                                  |\n",
    "|  2 | Arguments    | A parameter or value used in the function                                                |\n",
    "|  3 | Comments     | Notes that are added in the code line for personal use that does not run                 |\n",
    "|  4 | Indentations | Spaces that are required in the code line especially if using statements like if or else |\n",
    "|  5 | Packages     | Add-ons that adds more features to Python like numpy                                     |\n",
    "|  6 | .            | Indicates ownership of that function                                                     |\n",
    "|  7 | :            | To show that the following code is linked to the one before                              |\n",
    "|  8 | []           | Used in lists to store data                                                              |\n",
    "|  9 | [[[]]]       | Used in 3D lists to store data                                                           |\n",
    "| 10 | {}           | Used in dictionary to store data                                                         |"
   ]
  },
  {
   "cell_type": "markdown",
   "id": "653e54d4-0ef3-43b2-9f40-1f4c1f2fd4a3",
   "metadata": {},
   "source": [
    "### Exercise 4 (More than one way to divide) ☻\n",
    "\n",
    "Programming languages usually offer multiple options for dividing one number by another. Shown below are three such options. Either by observation (i.e., trial and error), Googling or discussing with a friend, figure out what each one does.\n",
    "I recommended the trial and error approach first so that you get a feel for how to use Python.\n",
    "Indicate your answer by writing a comment."
   ]
  },
  {
   "cell_type": "code",
   "execution_count": 7,
   "id": "e0082d53-8dd8-431f-8afa-c60c31424186",
   "metadata": {},
   "outputs": [
    {
     "data": {
      "text/plain": [
       "2.5"
      ]
     },
     "execution_count": 7,
     "metadata": {},
     "output_type": "execute_result"
    }
   ],
   "source": [
    "5/2 # 5 divide by 2 to get 2.5"
   ]
  },
  {
   "cell_type": "code",
   "execution_count": 8,
   "id": "d8a23885-1811-452d-b581-14a1580658a9",
   "metadata": {},
   "outputs": [
    {
     "data": {
      "text/plain": [
       "2"
      ]
     },
     "execution_count": 8,
     "metadata": {},
     "output_type": "execute_result"
    }
   ],
   "source": [
    "5//2 # 5 divides by 2, but the result is rounded down to the nearest whole"
   ]
  },
  {
   "cell_type": "code",
   "execution_count": 9,
   "id": "b22f8eca-812b-4cb7-9671-fb3719b75979",
   "metadata": {},
   "outputs": [
    {
     "data": {
      "text/plain": [
       "1"
      ]
     },
     "execution_count": 9,
     "metadata": {},
     "output_type": "execute_result"
    }
   ],
   "source": [
    "5%2 #5 divides by 2, but but the result is the remainder of the division"
   ]
  }
 ],
 "metadata": {
  "kernelspec": {
   "display_name": "Python 3 (ipykernel)",
   "language": "python",
   "name": "python3"
  },
  "language_info": {
   "codemirror_mode": {
    "name": "ipython",
    "version": 3
   },
   "file_extension": ".py",
   "mimetype": "text/x-python",
   "name": "python",
   "nbconvert_exporter": "python",
   "pygments_lexer": "ipython3",
   "version": "3.11.5"
  },
  "toc": {
   "base_numbering": 1,
   "nav_menu": {},
   "number_sections": true,
   "sideBar": true,
   "skip_h1_title": false,
   "title_cell": "Table of Contents",
   "title_sidebar": "Contents",
   "toc_cell": false,
   "toc_position": {},
   "toc_section_display": true,
   "toc_window_display": false
  },
  "vscode": {
   "interpreter": {
    "hash": "31f2aee4e71d21fbe5cf8b01ff0e069b9275f58929596ceb00d14d90e3e16cd6"
   }
  }
 },
 "nbformat": 4,
 "nbformat_minor": 5
}
