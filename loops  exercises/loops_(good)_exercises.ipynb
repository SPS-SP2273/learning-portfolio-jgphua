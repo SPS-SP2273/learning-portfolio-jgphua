{
 "cells": [
  {
   "attachments": {},
   "cell_type": "markdown",
   "id": "123456",
   "metadata": {},
   "source": [
    "<div style=\"text-align:left;font-size:2em\"><span style=\"font-weight:bolder;font-size:1.25em\">SP2273 | Learning Portfolio</span><br><br><span style=\"font-weight:bold;color:darkred\">Loops (Good) Exercises</span></div>"
   ]
  },
  {
   "cell_type": "markdown",
   "id": "a6911bfc-7b48-4535-af56-3192fcd8365f",
   "metadata": {},
   "source": [
    "## Exercise 1 (Make me an odd list) ☻"
   ]
  },
  {
   "cell_type": "code",
   "execution_count": 13,
   "id": "2ce846eb-6722-448e-a52e-fe1198dce635",
   "metadata": {},
   "outputs": [
    {
     "name": "stdout",
     "output_type": "stream",
     "text": [
      "1\n",
      "9\n",
      "25\n",
      "49\n",
      "81\n"
     ]
    }
   ],
   "source": [
    "for integer in range(10): #used for loope and to include range from 0 to 9\n",
    "    if (integer**2) %2 == 0: #exclude the even products (0,2,4,16,36,64)\n",
    "        continue\n",
    "    print(integer **2)"
   ]
  },
  {
   "cell_type": "code",
   "execution_count": 10,
   "id": "12eeea69-14b2-436c-85c9-02557ea854e6",
   "metadata": {},
   "outputs": [
    {
     "data": {
      "text/plain": [
       "[1, 9, 25, 49, 81]"
      ]
     },
     "execution_count": 10,
     "metadata": {},
     "output_type": "execute_result"
    }
   ],
   "source": [
    "list = [] #changed to create list\n",
    "for integer in range(10):\n",
    "    if (integer**2) %2 == 0:\n",
    "        continue\n",
    "    list.append(integer**2) #used append() to grow list\n",
    "list"
   ]
  },
  {
   "cell_type": "markdown",
   "id": "100180a6-b137-4759-8bf9-60936e7f5e26",
   "metadata": {},
   "source": [
    "## Exercise 2 (Make me another odd list) ☻"
   ]
  },
  {
   "cell_type": "code",
   "execution_count": 19,
   "id": "3ab7d2bf-b0e6-47ce-b1ce-b11fd5d956f0",
   "metadata": {},
   "outputs": [
    {
     "data": {
      "text/plain": [
       "[1, 9, 25, 49, 81]"
      ]
     },
     "execution_count": 19,
     "metadata": {},
     "output_type": "execute_result"
    }
   ],
   "source": [
    "[number**2 for number in range(10) if (number**2) %2 == 1] #only if it is odd numbers (remainder is 1)"
   ]
  },
  {
   "cell_type": "markdown",
   "id": "3d3858fa-f38e-4816-b528-d42f3058308f",
   "metadata": {},
   "source": [
    "## Exercise 3 (Time me!) ☻"
   ]
  },
  {
   "cell_type": "code",
   "execution_count": 1,
   "id": "a06663e9-88bb-405e-9799-6ac91ed3ad22",
   "metadata": {},
   "outputs": [
    {
     "name": "stdout",
     "output_type": "stream",
     "text": [
      "1.08 µs ± 28.5 ns per loop (mean ± std. dev. of 7 runs, 1,000,000 loops each)\n"
     ]
    }
   ],
   "source": [
    "%%timeit\n",
    "\n",
    "list = [] #changed to create list\n",
    "for integer in range(10):\n",
    "    if (integer**2) %2 == 0:\n",
    "        continue\n",
    "    list.append(integer**2) #used append() to grow list\n",
    "#list"
   ]
  },
  {
   "cell_type": "code",
   "execution_count": 2,
   "id": "e6d41fd9-13f0-45de-b833-0ff19d46dc08",
   "metadata": {},
   "outputs": [
    {
     "name": "stdout",
     "output_type": "stream",
     "text": [
      "1.15 µs ± 66.4 ns per loop (mean ± std. dev. of 7 runs, 1,000,000 loops each)\n"
     ]
    }
   ],
   "source": [
    "%%timeit\n",
    "\n",
    "[number**2 for number in range(10) if (number**2) %2 == 1]"
   ]
  },
  {
   "cell_type": "markdown",
   "id": "235ef463-1c2f-4b40-9828-c860114116ad",
   "metadata": {},
   "source": [
    "loops append is faster (1.08 µs ± 28.5 ns per loop) compared to (1.15 µs ± 66.4 µs per loop)"
   ]
  },
  {
   "cell_type": "markdown",
   "id": "1593dba5-c95b-4ad1-984f-08049bbde808",
   "metadata": {},
   "source": [
    "## Exercise 4 (A problem of decay) ☻"
   ]
  },
  {
   "cell_type": "code",
   "execution_count": null,
   "id": "5c65c4b0-5ef9-43ac-aab3-092b49ecd81d",
   "metadata": {},
   "outputs": [],
   "source": [
    "sample = 100\n",
    "year = 0\n",
    "\n",
    "while sample > 50: #for half the original amount\n",
    "    sample * 0.95 #degrades by 5%, #without the =, it just did a normal multiplication and did not update the variable, loop continues indefinitely\n",
    "    year += 1 # calculate each year\n",
    "print(f\" it takes {year} years to decay\")"
   ]
  },
  {
   "cell_type": "code",
   "execution_count": 3,
   "id": "1a5d8879-e97b-444c-823a-50f9d88d6be4",
   "metadata": {},
   "outputs": [
    {
     "name": "stdout",
     "output_type": "stream",
     "text": [
      " it takes 14 years to decay\n"
     ]
    }
   ],
   "source": [
    "sample = 100\n",
    "year = 0\n",
    "\n",
    "while sample > 50: #for half the original amount\n",
    "    sample *= 0.95 #degrades by 5%\n",
    "    year += 1 # calculate each year\n",
    "print(f\" it takes {year} years to decay\")"
   ]
  },
  {
   "cell_type": "markdown",
   "id": "9d46974d-035a-415f-ada7-e06c42239dce",
   "metadata": {},
   "source": [
    "## Exercise 5 (Changes in CO) ☻"
   ]
  },
  {
   "cell_type": "code",
   "execution_count": 13,
   "id": "d5caa4f5-f552-4fc1-ab61-27be7fbddf39",
   "metadata": {},
   "outputs": [],
   "source": [
    "co2_data = [\n",
    "    (2000, 369.55), (2001, 371.14), (2002, 373.28), \n",
    "    (2003, 375.80), (2004, 377.52), (2005, 379.80), \n",
    "    (2006, 381.90), (2007, 383.79), (2008, 385.60), \n",
    "    (2009, 387.43), (2010, 389.90), (2011, 391.65), \n",
    "    (2012, 393.85), (2013, 396.52), (2014, 398.65),\n",
    "    (2015, 400.83), (2016, 404.24), (2017, 406.55), \n",
    "    (2018, 408.52), (2019, 411.44), (2020, 414.24)\n",
    "]"
   ]
  },
  {
   "cell_type": "code",
   "execution_count": 6,
   "id": "4ab51e27-20cc-4e7d-b073-1e5945b1cdab",
   "metadata": {},
   "outputs": [
    {
     "ename": "TypeError",
     "evalue": "'float' object is not subscriptable",
     "output_type": "error",
     "traceback": [
      "\u001b[1;31m---------------------------------------------------------------------------\u001b[0m",
      "\u001b[1;31mTypeError\u001b[0m                                 Traceback (most recent call last)",
      "Cell \u001b[1;32mIn[6], line 1\u001b[0m\n\u001b[1;32m----> 1\u001b[0m \u001b[43mconcentrations\u001b[49m\u001b[43m[\u001b[49m\u001b[43mi\u001b[49m\u001b[38;5;241;43m+\u001b[39;49m\u001b[38;5;241;43m1\u001b[39;49m\u001b[43m]\u001b[49m\n",
      "\u001b[1;31mTypeError\u001b[0m: 'float' object is not subscriptable"
     ]
    }
   ],
   "source": [
    "concentrations[i+1]"
   ]
  },
  {
   "cell_type": "code",
   "execution_count": 26,
   "id": "97aa001c-5831-4b97-a2c5-713697b4c66b",
   "metadata": {},
   "outputs": [
    {
     "ename": "TypeError",
     "evalue": "'float' object is not subscriptable",
     "output_type": "error",
     "traceback": [
      "\u001b[1;31m---------------------------------------------------------------------------\u001b[0m",
      "\u001b[1;31mTypeError\u001b[0m                                 Traceback (most recent call last)",
      "Cell \u001b[1;32mIn[26], line 3\u001b[0m\n\u001b[0;32m      1\u001b[0m \u001b[38;5;28;01mfor\u001b[39;00m year, concentrations \u001b[38;5;129;01min\u001b[39;00m co2_data:\n\u001b[0;32m      2\u001b[0m     \u001b[38;5;28;01mfor\u001b[39;00m i \u001b[38;5;129;01min\u001b[39;00m \u001b[38;5;28mrange\u001b[39m(\u001b[38;5;28mlen\u001b[39m(co2_data)):\n\u001b[1;32m----> 3\u001b[0m         \u001b[38;5;28;01mwhile\u001b[39;00m \u001b[43mconcentrations\u001b[49m\u001b[43m[\u001b[49m\u001b[43mi\u001b[49m\u001b[38;5;241;43m+\u001b[39;49m\u001b[38;5;241;43m1\u001b[39;49m\u001b[43m]\u001b[49m \u001b[38;5;241m-\u001b[39m concentrations[i] \u001b[38;5;241m>\u001b[39m\u001b[38;5;241m=\u001b[39m \u001b[38;5;241m3\u001b[39m: \u001b[38;5;66;03m#met this issue where each iteration gives the whole tuple\u001b[39;00m\n\u001b[0;32m      4\u001b[0m             \u001b[38;5;28mprint\u001b[39m(year)\n",
      "\u001b[1;31mTypeError\u001b[0m: 'float' object is not subscriptable"
     ]
    }
   ],
   "source": [
    "for year, concentrations in co2_data:\n",
    "    for i in range(len(co2_data)):\n",
    "        while concentrations[i+1] - concentrations[i] >= 3: #met this issue where each iteration gives the whole tuple\n",
    "            print(year)"
   ]
  },
  {
   "cell_type": "code",
   "execution_count": 24,
   "id": "21ed4d2c-c708-473a-bc3e-7aa221c854f2",
   "metadata": {},
   "outputs": [
    {
     "name": "stdout",
     "output_type": "stream",
     "text": [
      " the year 2016 had a 3.41 increase from the previous year\n"
     ]
    }
   ],
   "source": [
    "for i in range(1, len(co2_data)): #struggled to find out a way to use for year, concentrations as a way to unpack\n",
    "    year, concentration = co2_data[i]  #chatgpt used this method to compare (which is not a good method as mentioned in loops_need)\n",
    "    prev_year, prev_concentration = co2_data[i - 1] \n",
    "    if concentration - prev_concentration >= 3:\n",
    "        print(f\" the year {year} had a {concentration - prev_concentration:.2f} increase from the previous year\") #added .2f to limit to 2dp"
   ]
  },
  {
   "cell_type": "code",
   "execution_count": null,
   "id": "03ac5643-7991-49a2-a772-2975f5522e63",
   "metadata": {},
   "outputs": [],
   "source": []
  }
 ],
 "metadata": {
  "kernelspec": {
   "display_name": "Python 3 (ipykernel)",
   "language": "python",
   "name": "python3"
  },
  "language_info": {
   "codemirror_mode": {
    "name": "ipython",
    "version": 3
   },
   "file_extension": ".py",
   "mimetype": "text/x-python",
   "name": "python",
   "nbconvert_exporter": "python",
   "pygments_lexer": "ipython3",
   "version": "3.11.5"
  },
  "toc": {
   "base_numbering": 1,
   "nav_menu": {},
   "number_sections": true,
   "sideBar": true,
   "skip_h1_title": false,
   "title_cell": "Table of Contents",
   "title_sidebar": "Contents",
   "toc_cell": false,
   "toc_position": {},
   "toc_section_display": true,
   "toc_window_display": false
  },
  "vscode": {
   "interpreter": {
    "hash": "31f2aee4e71d21fbe5cf8b01ff0e069b9275f58929596ceb00d14d90e3e16cd6"
   }
  }
 },
 "nbformat": 4,
 "nbformat_minor": 5
}
