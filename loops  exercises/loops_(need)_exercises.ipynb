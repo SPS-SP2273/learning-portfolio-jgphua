{
 "cells": [
  {
   "attachments": {},
   "cell_type": "markdown",
   "id": "123456",
   "metadata": {},
   "source": [
    "<div style=\"text-align:left;font-size:2em\"><span style=\"font-weight:bolder;font-size:1.25em\">SP2273 | Learning Portfolio</span><br><br><span style=\"font-weight:bold;color:darkred\">Loops (Need) Exercises</span></div>"
   ]
  },
  {
   "cell_type": "markdown",
   "id": "cf27216d-418a-4aee-adaf-ceed9799b974",
   "metadata": {},
   "source": [
    "## Exercise 1 (Celcius to Farenheit) ☻"
   ]
  },
  {
   "cell_type": "code",
   "execution_count": 4,
   "id": "16ca8e83-9ba2-4ad0-b609-cf87c2d4bcf4",
   "metadata": {},
   "outputs": [],
   "source": [
    "temperatures_celsius = [\n",
    "    0, 5, 10, 15, 20, 25,\n",
    "    30, 35, 40, 45, 50\n",
    "]"
   ]
  },
  {
   "cell_type": "code",
   "execution_count": 9,
   "id": "2a57989c-d3f0-49a7-a5e5-067ff6b66b1f",
   "metadata": {},
   "outputs": [
    {
     "name": "stdout",
     "output_type": "stream",
     "text": [
      "32.0\n",
      "41.0\n",
      "50.0\n",
      "59.0\n",
      "68.0\n",
      "77.0\n",
      "86.0\n",
      "95.0\n",
      "104.0\n",
      "113.0\n",
      "122.0\n"
     ]
    }
   ],
   "source": [
    "for i in range(len(temperatures_celsius)):\n",
    "    temperatures_farenheit = ((temperatures_celsius[i] * 9/5) + 32)\n",
    "    print(f\"{temperatures_farenheit}\")"
   ]
  },
  {
   "cell_type": "code",
   "execution_count": null,
   "id": "f81ecc5f-fe4b-4c91-8585-be1ab45d0665",
   "metadata": {},
   "outputs": [],
   "source": []
  }
 ],
 "metadata": {
  "kernelspec": {
   "display_name": "Python 3 (ipykernel)",
   "language": "python",
   "name": "python3"
  },
  "language_info": {
   "codemirror_mode": {
    "name": "ipython",
    "version": 3
   },
   "file_extension": ".py",
   "mimetype": "text/x-python",
   "name": "python",
   "nbconvert_exporter": "python",
   "pygments_lexer": "ipython3",
   "version": "3.11.5"
  },
  "toc": {
   "base_numbering": 1,
   "nav_menu": {},
   "number_sections": true,
   "sideBar": true,
   "skip_h1_title": false,
   "title_cell": "Table of Contents",
   "title_sidebar": "Contents",
   "toc_cell": false,
   "toc_position": {},
   "toc_section_display": true,
   "toc_window_display": false
  },
  "vscode": {
   "interpreter": {
    "hash": "31f2aee4e71d21fbe5cf8b01ff0e069b9275f58929596ceb00d14d90e3e16cd6"
   }
  }
 },
 "nbformat": 4,
 "nbformat_minor": 5
}
