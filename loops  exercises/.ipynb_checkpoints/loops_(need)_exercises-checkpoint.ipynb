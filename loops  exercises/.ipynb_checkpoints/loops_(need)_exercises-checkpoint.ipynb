{
 "cells": [
  {
   "attachments": {},
   "cell_type": "markdown",
   "id": "123456",
   "metadata": {},
   "source": [
    "<div style=\"text-align:left;font-size:2em\"><span style=\"font-weight:bolder;font-size:1.25em\">SP2273 | Learning Portfolio</span><br><br><span style=\"font-weight:bold;color:darkred\">Loops (Need) Exercises</span></div>"
   ]
  },
  {
   "cell_type": "markdown",
   "id": "cf27216d-418a-4aee-adaf-ceed9799b974",
   "metadata": {},
   "source": [
    "## Exercise 1 (Celcius to Farenheit) ☻"
   ]
  },
  {
   "cell_type": "code",
   "execution_count": 2,
   "id": "16ca8e83-9ba2-4ad0-b609-cf87c2d4bcf4",
   "metadata": {},
   "outputs": [],
   "source": [
    "temperatures_celsius = [\n",
    "    0, 5, 10, 15, 20, 25,\n",
    "    30, 35, 40, 45, 50\n",
    "]"
   ]
  },
  {
   "cell_type": "code",
   "execution_count": 3,
   "id": "2a57989c-d3f0-49a7-a5e5-067ff6b66b1f",
   "metadata": {},
   "outputs": [
    {
     "name": "stdout",
     "output_type": "stream",
     "text": [
      "32.0, 0\n",
      "41.0, 5\n",
      "50.0, 10\n",
      "59.0, 15\n",
      "68.0, 20\n",
      "77.0, 25\n",
      "86.0, 30\n",
      "95.0, 35\n",
      "104.0, 40\n",
      "113.0, 45\n",
      "122.0, 50\n"
     ]
    }
   ],
   "source": [
    "for i in range(len(temperatures_celsius)): #len(temperatures_celsius to show how many times loop runs\n",
    "    temperatures_farenheit = ((temperatures_celsius[i] * 9/5) + 32) #formula to get farenheit\n",
    "    print(f\"{temperatures_farenheit}, {temperatures_celsius[i]}\") "
   ]
  },
  {
   "cell_type": "code",
   "execution_count": 7,
   "id": "f81ecc5f-fe4b-4c91-8585-be1ab45d0665",
   "metadata": {},
   "outputs": [
    {
     "name": "stdout",
     "output_type": "stream",
     "text": [
      "0, 32.0\n",
      "5, 41.0\n",
      "10, 50.0\n",
      "15, 59.0\n",
      "20, 68.0\n",
      "25, 77.0\n",
      "30, 86.0\n",
      "35, 95.0\n",
      "40, 104.0\n",
      "45, 113.0\n",
      "50, 122.0\n"
     ]
    }
   ],
   "source": [
    "for celsius in temperatures_celsius: #tried a different methods, seems less complicated\n",
    "    print(f\"{celsius}, {(celsius * 9/5) + 32}\")"
   ]
  },
  {
   "cell_type": "markdown",
   "id": "821d54eb-c95c-48bb-ae0e-34fe2ca3895c",
   "metadata": {},
   "source": [
    "## Exercise 2 (Multiplication table) ☻"
   ]
  },
  {
   "cell_type": "code",
   "execution_count": 18,
   "id": "f792cb87-d1f4-424b-aa6a-febb988b71b8",
   "metadata": {
    "scrolled": true
   },
   "outputs": [
    {
     "name": "stdout",
     "output_type": "stream",
     "text": [
      "A1\tA2\tA3\t\n",
      "\n",
      "B1\tB2\tB3\t\n",
      "\n",
      "C1\tC2\tC3\t\n",
      "\n"
     ]
    }
   ],
   "source": [
    "for letter in ['A', 'B', 'C']: #also called nested loops, total iterations will be number of iterations in the outer loop multiplied by inner\n",
    "    for number in [1, 2, 3]: #for each outer loop iteration, the inner loop must finish before moving to next iteration in outer loop\n",
    "        print(f'{letter}{number}', end='\\t') #\\t means tab character\n",
    "    print('\\n') #\\n means new line character"
   ]
  },
  {
   "cell_type": "code",
   "execution_count": 29,
   "id": "11934be1-113c-4d75-b76b-a11f92c3fcbd",
   "metadata": {},
   "outputs": [
    {
     "name": "stdout",
     "output_type": "stream",
     "text": [
      "A1\n",
      "A2\n",
      "A3\n",
      "\t\n",
      "B1\n",
      "B2\n",
      "B3\n",
      "\t\n",
      "C1\n",
      "C2\n",
      "C3\n",
      "\t\n"
     ]
    }
   ],
   "source": [
    "for letter in ['A', 'B', 'C']:\n",
    "    for number in [1, 2, 3]:\n",
    "        print(f'{letter}{number}', end='\\n') #\\n means new line\n",
    "    print (\"\\t\") #\\t means tab/space"
   ]
  },
  {
   "cell_type": "code",
   "execution_count": 28,
   "id": "48aa1cd9-7ed2-49c8-ad1c-2c1c2cf6ec61",
   "metadata": {},
   "outputs": [
    {
     "name": "stdout",
     "output_type": "stream",
     "text": [
      "A1\tA2\tA3\tB1\tB2\tB3\tC1\tC2\tC3\t"
     ]
    }
   ],
   "source": [
    "for letter in ['A', 'B', 'C']:\n",
    "    for number in [1, 2, 3]:\n",
    "        print(f'{letter}{number}', end='\\t')"
   ]
  },
  {
   "cell_type": "code",
   "execution_count": 19,
   "id": "fb22c795-2c8f-4c72-beef-9927714bbd87",
   "metadata": {},
   "outputs": [
    {
     "name": "stdout",
     "output_type": "stream",
     "text": [
      "A1\n",
      "A2\n",
      "A3\n",
      "B1\n",
      "B2\n",
      "B3\n",
      "C1\n",
      "C2\n",
      "C3\n"
     ]
    }
   ],
   "source": [
    "for letter in ['A', 'B', 'C']:\n",
    "    for number in [1, 2, 3]:\n",
    "        print(f'{letter}{number}') "
   ]
  },
  {
   "cell_type": "code",
   "execution_count": 64,
   "id": "3d7aef9f-bcb7-43ed-9ded-0f64897413b3",
   "metadata": {},
   "outputs": [
    {
     "ename": "TypeError",
     "evalue": "'int' object is not iterable",
     "output_type": "error",
     "traceback": [
      "\u001b[1;31m---------------------------------------------------------------------------\u001b[0m",
      "\u001b[1;31mTypeError\u001b[0m                                 Traceback (most recent call last)",
      "Cell \u001b[1;32mIn[64], line 2\u001b[0m\n\u001b[0;32m      1\u001b[0m \u001b[38;5;28;01mfor\u001b[39;00m number \u001b[38;5;129;01min\u001b[39;00m [\u001b[38;5;241m1\u001b[39m, \u001b[38;5;241m2\u001b[39m, \u001b[38;5;241m3\u001b[39m, \u001b[38;5;241m4\u001b[39m, \u001b[38;5;241m5\u001b[39m]:\n\u001b[1;32m----> 2\u001b[0m     \u001b[38;5;28;01mfor\u001b[39;00m count, value \u001b[38;5;129;01min\u001b[39;00m \u001b[38;5;28;43menumerate\u001b[39;49m\u001b[43m(\u001b[49m\u001b[43mnumber\u001b[49m\u001b[43m)\u001b[49m:\n\u001b[0;32m      3\u001b[0m         \u001b[38;5;28mprint\u001b[39m(\u001b[38;5;124mf\u001b[39m\u001b[38;5;124m'\u001b[39m\u001b[38;5;132;01m{\u001b[39;00mcount\u001b[38;5;132;01m}\u001b[39;00m\u001b[38;5;124m: \u001b[39m\u001b[38;5;132;01m{\u001b[39;00mnumber\u001b[38;5;250m \u001b[39m\u001b[38;5;241m*\u001b[39m\u001b[38;5;250m \u001b[39mvalue\u001b[38;5;132;01m}\u001b[39;00m\u001b[38;5;124m'\u001b[39m, end\u001b[38;5;241m=\u001b[39m\u001b[38;5;124m'\u001b[39m\u001b[38;5;130;01m\\t\u001b[39;00m\u001b[38;5;124m'\u001b[39m)\n\u001b[0;32m      4\u001b[0m     \u001b[38;5;28mprint\u001b[39m(\u001b[38;5;124m'\u001b[39m\u001b[38;5;130;01m\\n\u001b[39;00m\u001b[38;5;124m'\u001b[39m)\n",
      "\u001b[1;31mTypeError\u001b[0m: 'int' object is not iterable"
     ]
    }
   ],
   "source": [
    "for number in [1, 2, 3, 4, 5]:\n",
    "    for count, value in enumerate(number): #was trying to use enumerate() to get the row labels but integer is not iterable\n",
    "        print(f'{count}: {number * value}', end='\\t')\n",
    "    print('\\n')"
   ]
  },
  {
   "cell_type": "code",
   "execution_count": 14,
   "id": "afb28230-76b5-4865-aae3-6ab61b60c43f",
   "metadata": {},
   "outputs": [
    {
     "name": "stdout",
     "output_type": "stream",
     "text": [
      "1: 1\n",
      "1: 2\n",
      "1: 3\n",
      "1: 4\n",
      "1: 5\n",
      "2: 2\n",
      "2: 4\n",
      "2: 6\n",
      "2: 8\n",
      "2: 10\n",
      "3: 3\n",
      "3: 6\n",
      "3: 9\n",
      "3: 12\n",
      "3: 15\n",
      "4: 4\n",
      "4: 8\n",
      "4: 12\n",
      "4: 16\n",
      "4: 20\n",
      "5: 5\n",
      "5: 10\n",
      "5: 15\n",
      "5: 20\n",
      "5: 25\n"
     ]
    }
   ],
   "source": [
    "number = [1,2,3,4,5]\n",
    "for count, n in enumerate(number, 1): #tried enumerate() but the numbers appeared for every single iteration of inner loop\n",
    "    for value in [1,2,3,4,5]:\n",
    "        print(f\"{count}: {n * value}\")"
   ]
  },
  {
   "cell_type": "code",
   "execution_count": 8,
   "id": "4e7d47bd-5ad9-4d53-a2c6-94c654c3e73c",
   "metadata": {},
   "outputs": [
    {
     "name": "stdout",
     "output_type": "stream",
     "text": [
      " 1\t 2\t 3\t 4\t 5\t\n",
      "\n",
      " 2\t 4\t 6\t 8\t 10\t\n",
      "\n",
      " 3\t 6\t 9\t 12\t 15\t\n",
      "\n",
      " 4\t 8\t 12\t 16\t 20\t\n",
      "\n",
      " 5\t 10\t 15\t 20\t 25\t\n",
      "\n"
     ]
    }
   ],
   "source": [
    "for number in [1,2,3,4,5]: \n",
    "    for value in [1,2,3,4,5]:\n",
    "        print(f\" {number * value}\", end=\"\\t\")\n",
    "    print(\"\\n\") #tried this method, but could not get the row labels"
   ]
  },
  {
   "cell_type": "code",
   "execution_count": 13,
   "id": "cbef8d8a-41c5-4f1c-849d-ef18bcfd8889",
   "metadata": {},
   "outputs": [
    {
     "name": "stdout",
     "output_type": "stream",
     "text": [
      "1 : 1\t 2\t 3\t 4\t 5\t\n",
      "\n",
      "2 : 2\t 4\t 6\t 8\t 10\t\n",
      "\n",
      "3 : 3\t 6\t 9\t 12\t 15\t\n",
      "\n",
      "4 : 4\t 8\t 12\t 16\t 20\t\n",
      "\n",
      "5 : 5\t 10\t 15\t 20\t 25\t\n",
      "\n"
     ]
    }
   ],
   "source": [
    "for number in [1,2,3,4,5]:\n",
    "    print(f\"{number} :\", end=\"\") #end=\"\" allows the code to continue on same line\n",
    "    for value in [1,2,3,4,5]:\n",
    "        print(f\" {number * value}\", end=\"\\t\")\n",
    "    print(\"\\n\")"
   ]
  }
 ],
 "metadata": {
  "kernelspec": {
   "display_name": "Python 3 (ipykernel)",
   "language": "python",
   "name": "python3"
  },
  "language_info": {
   "codemirror_mode": {
    "name": "ipython",
    "version": 3
   },
   "file_extension": ".py",
   "mimetype": "text/x-python",
   "name": "python",
   "nbconvert_exporter": "python",
   "pygments_lexer": "ipython3",
   "version": "3.11.5"
  },
  "toc": {
   "base_numbering": 1,
   "nav_menu": {},
   "number_sections": true,
   "sideBar": true,
   "skip_h1_title": false,
   "title_cell": "Table of Contents",
   "title_sidebar": "Contents",
   "toc_cell": false,
   "toc_position": {},
   "toc_section_display": true,
   "toc_window_display": false
  },
  "vscode": {
   "interpreter": {
    "hash": "31f2aee4e71d21fbe5cf8b01ff0e069b9275f58929596ceb00d14d90e3e16cd6"
   }
  }
 },
 "nbformat": 4,
 "nbformat_minor": 5
}
