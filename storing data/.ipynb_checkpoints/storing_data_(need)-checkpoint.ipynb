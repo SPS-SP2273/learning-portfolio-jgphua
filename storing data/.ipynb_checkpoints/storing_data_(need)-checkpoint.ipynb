{
 "cells": [
  {
   "attachments": {},
   "cell_type": "markdown",
   "id": "123456",
   "metadata": {},
   "source": [
    "<div style=\"text-align:left;font-size:2em\"><span style=\"font-weight:bolder;font-size:1.25em\">SP2273 | Learning Portfolio</span><br><br><span style=\"font-weight:bold;color:darkred\">Storing Data (Need)</span></div>"
   ]
  },
  {
   "attachments": {},
   "cell_type": "markdown",
   "id": "abfa770c",
   "metadata": {},
   "source": [
    "# What to expect in this chapter"
   ]
  },
  {
   "cell_type": "code",
   "execution_count": 2,
   "id": "f7a519c8-93cc-4309-9e91-7ac55d82167a",
   "metadata": {},
   "outputs": [],
   "source": [
    "import numpy as np"
   ]
  },
  {
   "attachments": {},
   "cell_type": "markdown",
   "id": "0acf5c0d",
   "metadata": {},
   "source": [
    "# 1 Lists, Arrays & Dictionaries"
   ]
  },
  {
   "attachments": {},
   "cell_type": "markdown",
   "id": "4d3abcbd",
   "metadata": {},
   "source": [
    "## 1.1 Let’s compare"
   ]
  },
  {
   "cell_type": "code",
   "execution_count": 2,
   "id": "19677b64-cdd5-41b0-bca9-772590967f6f",
   "metadata": {},
   "outputs": [],
   "source": [
    "py_super_names = [\"Black Widow\", \"Iron Man\", \"Doctor Strange\"] #py or np are added to show python or numpy and variables dont need to have them\n",
    "py_real_names = [\"Natasha Romanoff\", \"Tony Stark\", \"Stephen Strange\"]"
   ]
  },
  {
   "cell_type": "code",
   "execution_count": 3,
   "id": "09c29bde-260d-4b5f-becd-a54631de476f",
   "metadata": {},
   "outputs": [],
   "source": [
    "np_super_names = np.array([\"Black Widow\", \"Iron Man\", \"Doctor Strange\"])\n",
    "np_real_names = np.array([\"Natasha Romanoff\", \"Tony Stark\", \"Stephen Strange\"])"
   ]
  },
  {
   "cell_type": "code",
   "execution_count": 1,
   "id": "635a379a-f358-4bb7-abed-e29711cdf111",
   "metadata": {},
   "outputs": [],
   "source": [
    "superhero_info = {\n",
    "    \"Natasha Romanoff\": \"Black Widow\", #dictionary can hold two data together unlike lists or array\n",
    "    \"Tony Stark\": \"Iron Man\",\n",
    "    \"Stephen Strange\": \"Doctor Strange\"\n",
    "}"
   ]
  },
  {
   "attachments": {},
   "cell_type": "markdown",
   "id": "bfa19b98",
   "metadata": {},
   "source": [
    "## 1.2 Accessing data from a list (or array)"
   ]
  },
  {
   "cell_type": "code",
   "execution_count": 8,
   "id": "83523b25-7b9e-4870-bec1-ee707f40128d",
   "metadata": {},
   "outputs": [
    {
     "data": {
      "text/plain": [
       "'Natasha Romanoff'"
      ]
     },
     "execution_count": 8,
     "metadata": {},
     "output_type": "execute_result"
    }
   ],
   "source": [
    "py_super_names = [\"Black Widow\", \"Iron Man\", \"Doctor Strange\"]\n",
    "py_real_names = [\"Natasha Romanoff\", \"Tony Stark\", \"Stephen Strange\"]\n",
    "\n",
    "py_real_names[0] #remember that indexing starts from 0 and not 1"
   ]
  },
  {
   "cell_type": "code",
   "execution_count": 10,
   "id": "a5628330-92b7-4c11-88f9-57fb86d7763b",
   "metadata": {},
   "outputs": [
    {
     "data": {
      "text/plain": [
       "'Black Widow'"
      ]
     },
     "execution_count": 10,
     "metadata": {},
     "output_type": "execute_result"
    }
   ],
   "source": [
    "py_super_names[0]"
   ]
  },
  {
   "cell_type": "code",
   "execution_count": 4,
   "id": "7e21c72e-fce7-44c9-8d92-1ac0d3b82a23",
   "metadata": {},
   "outputs": [
    {
     "data": {
      "text/plain": [
       "'Stephen Strange'"
      ]
     },
     "execution_count": 4,
     "metadata": {},
     "output_type": "execute_result"
    }
   ],
   "source": [
    "py_real_names[2]\n"
   ]
  },
  {
   "cell_type": "code",
   "execution_count": 12,
   "id": "6be09e7f-2c0f-43e2-ba06-f052124e0ecd",
   "metadata": {},
   "outputs": [
    {
     "data": {
      "text/plain": [
       "'Doctor Strange'"
      ]
     },
     "execution_count": 12,
     "metadata": {},
     "output_type": "execute_result"
    }
   ],
   "source": [
    "py_super_names[2]    # Forward indexing \n",
    "                     # We need to know the size \n",
    "                     # beforehand for this to work."
   ]
  },
  {
   "cell_type": "code",
   "execution_count": 5,
   "id": "2f184b4a-1515-4ab8-8055-716755d22b1f",
   "metadata": {},
   "outputs": [
    {
     "data": {
      "text/plain": [
       "'Doctor Strange'"
      ]
     },
     "execution_count": 5,
     "metadata": {},
     "output_type": "execute_result"
    }
   ],
   "source": [
    "py_super_names[-1] #negative value will return the last entry in the list so do not need to know how many elements are there\n"
   ]
  },
  {
   "cell_type": "code",
   "execution_count": 7,
   "id": "74729a23-05d4-4237-8e3e-782900dc1571",
   "metadata": {},
   "outputs": [
    {
     "data": {
      "text/plain": [
       "'Iron Man'"
      ]
     },
     "execution_count": 7,
     "metadata": {},
     "output_type": "execute_result"
    }
   ],
   "source": [
    "py_super_names[-2] #seems like this would just give the second entry in the list from the back"
   ]
  },
  {
   "attachments": {},
   "cell_type": "markdown",
   "id": "e4cc2bbe",
   "metadata": {},
   "source": [
    "## 1.3 Accessing data from a dictionary"
   ]
  },
  {
   "cell_type": "code",
   "execution_count": 7,
   "id": "620183bb-1137-4552-8cba-6cc999ebace0",
   "metadata": {},
   "outputs": [],
   "source": [
    "superhero_info = {\n",
    "    \"Natasha Romanoff\": \"Black Widow\",\n",
    "    \"Tony Stark\": \"Iron Man\",\n",
    "    \"Stephen Strange\": \"Doctor Strange\"\n",
    "}          #dictionary has key-value structure (key on left side, value on right) "
   ]
  },
  {
   "cell_type": "code",
   "execution_count": 16,
   "id": "2618d3ae-ab47-46df-8e3a-c1b78caf8edb",
   "metadata": {},
   "outputs": [
    {
     "data": {
      "text/plain": [
       "'Black Widow'"
      ]
     },
     "execution_count": 16,
     "metadata": {},
     "output_type": "execute_result"
    }
   ],
   "source": [
    "superhero_info[\"Natasha Romanoff\"]"
   ]
  },
  {
   "cell_type": "code",
   "execution_count": 17,
   "id": "2f408b30-5669-43d0-bee3-085bad960845",
   "metadata": {},
   "outputs": [
    {
     "data": {
      "text/plain": [
       "dict_keys(['Natasha Romanoff', 'Tony Stark', 'Stephen Strange'])"
      ]
     },
     "execution_count": 17,
     "metadata": {},
     "output_type": "execute_result"
    }
   ],
   "source": [
    "superhero_info.keys()"
   ]
  },
  {
   "cell_type": "code",
   "execution_count": 11,
   "id": "a13babc2-eb87-45a1-8a6f-c811e8d0a93d",
   "metadata": {},
   "outputs": [
    {
     "data": {
      "text/plain": [
       "dict_values(['Black Widow', 'Iron Man', 'Doctor Strange'])"
      ]
     },
     "execution_count": 11,
     "metadata": {},
     "output_type": "execute_result"
    }
   ],
   "source": [
    "superhero_info.values()"
   ]
  },
  {
   "cell_type": "code",
   "execution_count": 13,
   "id": "e195d5aa-0722-4460-8df2-d22b0bac232b",
   "metadata": {},
   "outputs": [],
   "source": [
    "fruit_color = {\"Apple\": \"Red\", \"Banana\": \"Yellow\", \"Peach\": \"Pink\"}"
   ]
  },
  {
   "cell_type": "code",
   "execution_count": 14,
   "id": "6b439cf4-2c80-4399-bc02-f6aaa8918e80",
   "metadata": {},
   "outputs": [
    {
     "data": {
      "text/plain": [
       "dict_keys(['Apple', 'Banana', 'Peach'])"
      ]
     },
     "execution_count": 14,
     "metadata": {},
     "output_type": "execute_result"
    }
   ],
   "source": [
    "fruit_color.keys()"
   ]
  },
  {
   "cell_type": "code",
   "execution_count": 9,
   "id": "0f6863d4-a22b-4a11-b40e-e23847d39a47",
   "metadata": {
    "scrolled": true
   },
   "outputs": [
    {
     "data": {
      "text/plain": [
       "dict_items([('Natasha Romanoff', 'Black Widow'), ('Tony Stark', 'Iron Man'), ('Stephen Strange', 'Doctor Strange')])"
      ]
     },
     "execution_count": 9,
     "metadata": {},
     "output_type": "execute_result"
    }
   ],
   "source": [
    "superhero_info.items() #returns the data of the key-value as a tuple"
   ]
  },
  {
   "cell_type": "code",
   "execution_count": 20,
   "id": "788a526b-292e-46fd-8f52-777f5dfd5406",
   "metadata": {},
   "outputs": [
    {
     "name": "stdout",
     "output_type": "stream",
     "text": [
      "Original heroes: dict_items([('Natasha Romanoff', 'Black Widow'), ('Stephen Strange', 'Doctor Strange')])\n"
     ]
    },
    {
     "ename": "TypeError",
     "evalue": "'dict_items' object does not support item deletion",
     "output_type": "error",
     "traceback": [
      "\u001b[1;31m---------------------------------------------------------------------------\u001b[0m",
      "\u001b[1;31mTypeError\u001b[0m                                 Traceback (most recent call last)",
      "Cell \u001b[1;32mIn[20], line 3\u001b[0m\n\u001b[0;32m      1\u001b[0m heroes \u001b[38;5;241m=\u001b[39m superhero_info\u001b[38;5;241m.\u001b[39mitems()\n\u001b[0;32m      2\u001b[0m \u001b[38;5;28mprint\u001b[39m(\u001b[38;5;124m\"\u001b[39m\u001b[38;5;124mOriginal heroes:\u001b[39m\u001b[38;5;124m\"\u001b[39m, heroes)\n\u001b[1;32m----> 3\u001b[0m \u001b[38;5;28;01mdel\u001b[39;00m[\u001b[43mheroes\u001b[49m\u001b[43m[\u001b[49m\u001b[38;5;124;43m\"\u001b[39;49m\u001b[38;5;124;43mNatasha Romanoff\u001b[39;49m\u001b[38;5;124;43m\"\u001b[39;49m\u001b[43m]\u001b[49m]\n\u001b[0;32m      4\u001b[0m \u001b[38;5;28mprint\u001b[39m(\u001b[38;5;124m\"\u001b[39m\u001b[38;5;124mUpdated heroes:\u001b[39m\u001b[38;5;124m\"\u001b[39m, heroes)\n",
      "\u001b[1;31mTypeError\u001b[0m: 'dict_items' object does not support item deletion"
     ]
    }
   ],
   "source": [
    "heroes = superhero_info.items()\n",
    "print(\"Original heroes:\", heroes)\n",
    "del[heroes[\"Natasha Romanoff\"]]\n",
    "print(\"Updated heroes:\", heroes)"
   ]
  },
  {
   "cell_type": "code",
   "execution_count": 27,
   "id": "e2ad40e7-723e-4b85-8fb3-5624c3483270",
   "metadata": {},
   "outputs": [
    {
     "name": "stdout",
     "output_type": "stream",
     "text": [
      "Original items: dict_items([('apple', 2), ('orange', 3), ('grapes', 4)])\n",
      "Updated items: dict_items([('orange', 3), ('grapes', 4)])\n"
     ]
    }
   ],
   "source": [
    "# random sales dictionary\n",
    "sales = { 'apple': 2, 'orange': 3, 'grapes': 4 }\n",
    "\n",
    "items = sales.items()\n",
    "\n",
    "print('Original items:', items)\n",
    "\n",
    "# delete an item from dictionary\n",
    "del[sales[\"apple\"]]\n",
    "\n",
    "print('Updated items:', items)"
   ]
  },
  {
   "cell_type": "code",
   "execution_count": 22,
   "id": "7fd6687d-b331-4d5c-b5e6-7d72e94afdaf",
   "metadata": {},
   "outputs": [],
   "source": [
    "superhero_number = {\n",
    "    \"Natasha Romanoff\": 1,\n",
    "    \"Tony Stark\": 2,\n",
    "    \"Stephen Strange\": 3\n",
    "}          "
   ]
  },
  {
   "cell_type": "code",
   "execution_count": 28,
   "id": "c461a987-43a2-487b-b6b5-cfe67bab3904",
   "metadata": {},
   "outputs": [
    {
     "name": "stdout",
     "output_type": "stream",
     "text": [
      "Original heroes number: dict_items([('Natasha Romanoff', 1), ('Tony Stark', 2), ('Stephen Strange', 3)])\n"
     ]
    },
    {
     "ename": "TypeError",
     "evalue": "'dict_items' object does not support item deletion",
     "output_type": "error",
     "traceback": [
      "\u001b[1;31m---------------------------------------------------------------------------\u001b[0m",
      "\u001b[1;31mTypeError\u001b[0m                                 Traceback (most recent call last)",
      "Cell \u001b[1;32mIn[28], line 3\u001b[0m\n\u001b[0;32m      1\u001b[0m heroesn \u001b[38;5;241m=\u001b[39m superhero_number\u001b[38;5;241m.\u001b[39mitems()\n\u001b[0;32m      2\u001b[0m \u001b[38;5;28mprint\u001b[39m(\u001b[38;5;124m\"\u001b[39m\u001b[38;5;124mOriginal heroes number:\u001b[39m\u001b[38;5;124m\"\u001b[39m, heroesn)\n\u001b[1;32m----> 3\u001b[0m \u001b[38;5;28;01mdel\u001b[39;00m[\u001b[43mheroesn\u001b[49m\u001b[43m[\u001b[49m\u001b[38;5;124;43m\"\u001b[39;49m\u001b[38;5;124;43mTony Stark\u001b[39;49m\u001b[38;5;124;43m\"\u001b[39;49m\u001b[43m]\u001b[49m]\n\u001b[0;32m      4\u001b[0m \u001b[38;5;28mprint\u001b[39m(\u001b[38;5;124m\"\u001b[39m\u001b[38;5;124mUpdated heroes number:\u001b[39m\u001b[38;5;124m\"\u001b[39m, heroesn)\n",
      "\u001b[1;31mTypeError\u001b[0m: 'dict_items' object does not support item deletion"
     ]
    }
   ],
   "source": [
    "heroesn = superhero_number.items()\n",
    "print(\"Original heroes number:\", heroesn)\n",
    "del[heroesn[\"Tony Stark\"]]\n",
    "print(\"Updated heroes number:\", heroesn)"
   ]
  },
  {
   "attachments": {},
   "cell_type": "markdown",
   "id": "1aa1e2d4",
   "metadata": {},
   "source": [
    "## 1.4 Higher dimensional lists"
   ]
  },
  {
   "cell_type": "code",
   "execution_count": 15,
   "id": "f5a7dde7-4bc8-40e8-80fe-1142d8523ba5",
   "metadata": {},
   "outputs": [],
   "source": [
    "py_superhero_info = [['Natasha Romanoff', 'Black Widow'],\n",
    "                     ['Tony Stark', 'Iron Man'],\n",
    "                     ['Stephen Strange', 'Doctor Strange']] #example of 2D lists so do not need to have two seperate lists"
   ]
  },
  {
   "cell_type": "code",
   "execution_count": 16,
   "id": "10810962-9ff8-4ac9-a3ba-5d8c216fc278",
   "metadata": {},
   "outputs": [],
   "source": [
    "fruit_info = [[\"Apple\", \"Red\"],[\"Banana\", \"Yellow\"],[\"Peach\", \"Pink\"]]"
   ]
  },
  {
   "cell_type": "code",
   "execution_count": 19,
   "id": "275b8c02-3d6e-43a7-8b5e-c24ec50dd1d2",
   "metadata": {},
   "outputs": [
    {
     "data": {
      "text/plain": [
       "['Banana', 'Yellow']"
      ]
     },
     "execution_count": 19,
     "metadata": {},
     "output_type": "execute_result"
    }
   ],
   "source": [
    "fruit_info[1]"
   ]
  },
  {
   "attachments": {},
   "cell_type": "markdown",
   "id": "58c5d9e3",
   "metadata": {},
   "source": [
    "# 2 Lists vs. Arrays"
   ]
  },
  {
   "attachments": {},
   "cell_type": "markdown",
   "id": "a49d5974",
   "metadata": {},
   "source": [
    "## 2.1 Size"
   ]
  },
  {
   "cell_type": "code",
   "execution_count": 25,
   "id": "cf265404-a6e9-4bde-96e5-9ff226674759",
   "metadata": {},
   "outputs": [],
   "source": [
    "py_list_2d = [[1, \"A\"], [2, \"B\"], [3, \"C\"], [4, \"D\"],\n",
    "              [5, \"E\"], [6, \"F\"], [7, \"G\"], [8, \"H\"],\n",
    "              [9, \"I\"], [10, \"J\"]]\n",
    "\n",
    "np_array_2d = np.array(py_list_2d)      # Reusing the Python list \n",
    "                                        # to create a NEW\n",
    "                                        # NumPy array"
   ]
  },
  {
   "cell_type": "code",
   "execution_count": 26,
   "id": "d78f3797-e834-4ded-a93d-ef83a6427930",
   "metadata": {
    "scrolled": true
   },
   "outputs": [
    {
     "data": {
      "text/plain": [
       "10"
      ]
     },
     "execution_count": 26,
     "metadata": {},
     "output_type": "execute_result"
    }
   ],
   "source": [
    "len(py_list_2d)"
   ]
  },
  {
   "cell_type": "code",
   "execution_count": 27,
   "id": "6002b604-68ee-49fb-bd43-b512f6b66a32",
   "metadata": {},
   "outputs": [
    {
     "data": {
      "text/plain": [
       "10"
      ]
     },
     "execution_count": 27,
     "metadata": {},
     "output_type": "execute_result"
    }
   ],
   "source": [
    "len(np_array_2d)"
   ]
  },
  {
   "cell_type": "code",
   "execution_count": 28,
   "id": "d6a520ef-41bb-4f22-92c9-2883111f5c4c",
   "metadata": {},
   "outputs": [
    {
     "data": {
      "text/plain": [
       "(10, 2)"
      ]
     },
     "execution_count": 28,
     "metadata": {},
     "output_type": "execute_result"
    }
   ],
   "source": [
    "np_array_2d.shape #shape is not a function"
   ]
  },
  {
   "attachments": {},
   "cell_type": "markdown",
   "id": "dae17f5c",
   "metadata": {},
   "source": [
    "## 2.2 Arrays are fussy about type"
   ]
  },
  {
   "cell_type": "code",
   "execution_count": 30,
   "id": "2e25d564-06ee-4328-9c48-597969491ae0",
   "metadata": {},
   "outputs": [],
   "source": [
    "py_list = [1, 1.5, 'A']\n",
    "np_array = np.array(py_list)"
   ]
  },
  {
   "cell_type": "code",
   "execution_count": 31,
   "id": "179dd3e6-9f88-49b8-86ef-7d6ece493c5b",
   "metadata": {},
   "outputs": [
    {
     "data": {
      "text/plain": [
       "[1, 1.5, 'A']"
      ]
     },
     "execution_count": 31,
     "metadata": {},
     "output_type": "execute_result"
    }
   ],
   "source": [
    "py_list #lists can accomodate more data types than array"
   ]
  },
  {
   "cell_type": "code",
   "execution_count": 33,
   "id": "5d6bdf57-438e-4ff1-92f5-2b8e0e2a7ae5",
   "metadata": {},
   "outputs": [
    {
     "data": {
      "text/plain": [
       "array(['1', '1.5', 'A'], dtype='<U32')"
      ]
     },
     "execution_count": 33,
     "metadata": {},
     "output_type": "execute_result"
    }
   ],
   "source": [
    "np_array #numbers turned to english, as only tolerate one type"
   ]
  },
  {
   "cell_type": "code",
   "execution_count": 3,
   "id": "020fd331-4fa9-4247-b5f6-cc3fe9d9e4f5",
   "metadata": {},
   "outputs": [],
   "source": [
    "list = [1,1.5]\n",
    "np_array = np.array(list)"
   ]
  },
  {
   "cell_type": "code",
   "execution_count": 5,
   "id": "18b336f4-dad0-46d2-929f-238173fd6682",
   "metadata": {},
   "outputs": [
    {
     "data": {
      "text/plain": [
       "array([1. , 1.5])"
      ]
     },
     "execution_count": 5,
     "metadata": {},
     "output_type": "execute_result"
    }
   ],
   "source": [
    "np_array #seems like the integer is changed to float instead"
   ]
  },
  {
   "attachments": {},
   "cell_type": "markdown",
   "id": "502c97db",
   "metadata": {},
   "source": [
    "## 2.3 Adding a number"
   ]
  },
  {
   "cell_type": "code",
   "execution_count": 44,
   "id": "25556dff-10a0-4dad-be02-ef982a0879f5",
   "metadata": {},
   "outputs": [],
   "source": [
    "py_list = [1, 2, 3, 4, 5]\n",
    "np_array = np.array(py_list)         # Reusing the Python list\n",
    "                                     # to create a NEW\n",
    "                                     # NumPy array"
   ]
  },
  {
   "cell_type": "code",
   "execution_count": 48,
   "id": "c10943e9-8bb4-4fcf-8d74-4589e1aac7a0",
   "metadata": {},
   "outputs": [
    {
     "ename": "TypeError",
     "evalue": "can only concatenate list (not \"int\") to list",
     "output_type": "error",
     "traceback": [
      "\u001b[1;31m---------------------------------------------------------------------------\u001b[0m",
      "\u001b[1;31mTypeError\u001b[0m                                 Traceback (most recent call last)",
      "Cell \u001b[1;32mIn[48], line 1\u001b[0m\n\u001b[1;32m----> 1\u001b[0m \u001b[43mpy_list\u001b[49m\u001b[43m \u001b[49m\u001b[38;5;241;43m+\u001b[39;49m\u001b[43m \u001b[49m\u001b[38;5;241;43m10\u001b[39;49m        \u001b[38;5;66;03m# Won't work! #The + operator for lists is used for concatenation, not for adding a constant to each element of the list\u001b[39;00m\n",
      "\u001b[1;31mTypeError\u001b[0m: can only concatenate list (not \"int\") to list"
     ]
    }
   ],
   "source": [
    "py_list + 10        # Won't work! #The + operator for lists is used for concatenation, not for adding a constant to each element of the list"
   ]
  },
  {
   "cell_type": "code",
   "execution_count": 42,
   "id": "c94f8f34-aecb-4983-b410-5a367f980fdb",
   "metadata": {},
   "outputs": [
    {
     "data": {
      "text/plain": [
       "array([11, 12, 13, 14, 15])"
      ]
     },
     "execution_count": 42,
     "metadata": {},
     "output_type": "execute_result"
    }
   ],
   "source": [
    "np_array + 10"
   ]
  },
  {
   "cell_type": "code",
   "execution_count": 38,
   "id": "08458baf-0955-46f8-bcce-1bdbd2318316",
   "metadata": {},
   "outputs": [
    {
     "data": {
      "text/plain": [
       "array([6787990, 6787991, 6787992, 6787993, 6787994])"
      ]
     },
     "execution_count": 38,
     "metadata": {},
     "output_type": "execute_result"
    }
   ],
   "source": [
    "np_array + 6787989"
   ]
  },
  {
   "attachments": {},
   "cell_type": "markdown",
   "id": "90accf46",
   "metadata": {},
   "source": [
    "## 2.4 Adding another list"
   ]
  },
  {
   "cell_type": "code",
   "execution_count": 90,
   "id": "c6876399-1535-4431-b828-08e83c1d9d2d",
   "metadata": {},
   "outputs": [],
   "source": [
    "py_list_1 = [1, 2, 3, 4, 5]\n",
    "py_list_2 = [10, 20, 30, 40, 50]\n",
    "\n",
    "np_array_1 = np.array(py_list_1)\n",
    "np_array_2 = np.array(py_list_2)"
   ]
  },
  {
   "cell_type": "code",
   "execution_count": 95,
   "id": "319ebc93-1c6c-4467-8ec7-caa6618f3619",
   "metadata": {},
   "outputs": [
    {
     "data": {
      "text/plain": [
       "[1, 2, 3, 4, 5, 10, 20, 30, 40, 50]"
      ]
     },
     "execution_count": 95,
     "metadata": {},
     "output_type": "execute_result"
    }
   ],
   "source": [
    "py_list_1 + py_list_2 #this works compared to adding an integer"
   ]
  },
  {
   "cell_type": "code",
   "execution_count": 96,
   "id": "4877e966-e1f3-4a04-a0aa-546b137e5b4b",
   "metadata": {
    "scrolled": true
   },
   "outputs": [
    {
     "data": {
      "text/plain": [
       "array([11, 22, 33, 44, 55])"
      ]
     },
     "execution_count": 96,
     "metadata": {},
     "output_type": "execute_result"
    }
   ],
   "source": [
    "np_array_1 + np_array_2 #addition of elements instead"
   ]
  },
  {
   "cell_type": "code",
   "execution_count": 93,
   "id": "2a3f84d2-6193-4a34-a0b2-a54e1d760410",
   "metadata": {},
   "outputs": [],
   "source": [
    "py_list_3 = [1, 2, 3, 4, 5,\"s\"]\n",
    "py_list_4 = [10, 20, 30, 40, 50]\n",
    "\n",
    "np_array_3 = np.array(py_list_3)\n",
    "np_array_4 = np.array(py_list_4)"
   ]
  },
  {
   "cell_type": "code",
   "execution_count": 94,
   "id": "35bb049a-c353-42ed-bd6a-fb461d603656",
   "metadata": {},
   "outputs": [
    {
     "data": {
      "text/plain": [
       "[1, 2, 3, 4, 5, 's', 10, 20, 30, 40, 50]"
      ]
     },
     "execution_count": 94,
     "metadata": {},
     "output_type": "execute_result"
    }
   ],
   "source": [
    "py_list_3 + py_list_4"
   ]
  },
  {
   "cell_type": "code",
   "execution_count": 98,
   "id": "97ff9bf4-12db-4db5-bc3e-0473cc7bd867",
   "metadata": {},
   "outputs": [
    {
     "ename": "UFuncTypeError",
     "evalue": "ufunc 'add' did not contain a loop with signature matching types (dtype('<U11'), dtype('int32')) -> None",
     "output_type": "error",
     "traceback": [
      "\u001b[1;31m---------------------------------------------------------------------------\u001b[0m",
      "\u001b[1;31mUFuncTypeError\u001b[0m                            Traceback (most recent call last)",
      "Cell \u001b[1;32mIn[98], line 1\u001b[0m\n\u001b[1;32m----> 1\u001b[0m \u001b[43mnp_array_3\u001b[49m\u001b[43m \u001b[49m\u001b[38;5;241;43m+\u001b[39;49m\u001b[43m \u001b[49m\u001b[43mnp_array_4\u001b[49m \u001b[38;5;66;03m#does not work any more due to the string s\u001b[39;00m\n",
      "\u001b[1;31mUFuncTypeError\u001b[0m: ufunc 'add' did not contain a loop with signature matching types (dtype('<U11'), dtype('int32')) -> None"
     ]
    }
   ],
   "source": [
    "np_array_3 + np_array_4 #does not work any more due to the string s"
   ]
  },
  {
   "attachments": {},
   "cell_type": "markdown",
   "id": "4fa35085",
   "metadata": {},
   "source": [
    "## 2.5 Multiplying by a Number"
   ]
  },
  {
   "cell_type": "code",
   "execution_count": 99,
   "id": "854ca3ae-ae86-4576-b2c0-4e08f8f75211",
   "metadata": {},
   "outputs": [],
   "source": [
    "py_list = [1, 2, 3, 4, 5]\n",
    "np_array = np.array(py_list)         "
   ]
  },
  {
   "cell_type": "code",
   "execution_count": 101,
   "id": "b19547a5-33b6-4012-a33e-ab811a7a1702",
   "metadata": {
    "scrolled": true
   },
   "outputs": [
    {
     "data": {
      "text/plain": [
       "[1, 2, 3, 4, 5, 1, 2, 3, 4, 5]"
      ]
     },
     "execution_count": 101,
     "metadata": {},
     "output_type": "execute_result"
    }
   ],
   "source": [
    "py_list*2 #instead of multiplying by 2, the list is duplicated"
   ]
  },
  {
   "cell_type": "code",
   "execution_count": 102,
   "id": "556e6fc7-e28a-41d9-9d13-db0558ae2187",
   "metadata": {},
   "outputs": [
    {
     "data": {
      "text/plain": [
       "[1, 2, 3, 4, 5, 1, 2, 3, 4, 5, 1, 2, 3, 4, 5, 1, 2, 3, 4, 5]"
      ]
     },
     "execution_count": 102,
     "metadata": {},
     "output_type": "execute_result"
    }
   ],
   "source": [
    "py_list*4"
   ]
  },
  {
   "cell_type": "code",
   "execution_count": 104,
   "id": "bbcb37e5-2acf-4a1e-938a-b2f779d18202",
   "metadata": {},
   "outputs": [
    {
     "data": {
      "text/plain": [
       "array([ 2,  4,  6,  8, 10])"
      ]
     },
     "execution_count": 104,
     "metadata": {},
     "output_type": "execute_result"
    }
   ],
   "source": [
    "np_array*2 #multiplies"
   ]
  },
  {
   "attachments": {},
   "cell_type": "markdown",
   "id": "562eedc6",
   "metadata": {},
   "source": [
    "## 2.6 Squaring"
   ]
  },
  {
   "cell_type": "code",
   "execution_count": 105,
   "id": "d528153c-f077-4766-abbc-0afefde8ed8c",
   "metadata": {},
   "outputs": [],
   "source": [
    "py_list = [1, 2, 3, 4, 5]\n",
    "np_array = np.array(py_list)"
   ]
  },
  {
   "cell_type": "code",
   "execution_count": 106,
   "id": "1be0dd0e-63bc-4786-b0bd-276f1ddfb448",
   "metadata": {},
   "outputs": [
    {
     "ename": "TypeError",
     "evalue": "unsupported operand type(s) for ** or pow(): 'list' and 'int'",
     "output_type": "error",
     "traceback": [
      "\u001b[1;31m---------------------------------------------------------------------------\u001b[0m",
      "\u001b[1;31mTypeError\u001b[0m                                 Traceback (most recent call last)",
      "Cell \u001b[1;32mIn[106], line 1\u001b[0m\n\u001b[1;32m----> 1\u001b[0m \u001b[43mpy_list\u001b[49m\u001b[38;5;241;43m*\u001b[39;49m\u001b[38;5;241;43m*\u001b[39;49m\u001b[38;5;241;43m2\u001b[39;49m                      \u001b[38;5;66;03m# Won't work!  \u001b[39;00m\n",
      "\u001b[1;31mTypeError\u001b[0m: unsupported operand type(s) for ** or pow(): 'list' and 'int'"
     ]
    }
   ],
   "source": [
    "py_list**2                      # Won't work!   #not mathematical "
   ]
  },
  {
   "cell_type": "code",
   "execution_count": 107,
   "id": "d231d01d-e6a2-4beb-9410-35e59a325728",
   "metadata": {},
   "outputs": [
    {
     "data": {
      "text/plain": [
       "array([ 1,  4,  9, 16, 25])"
      ]
     },
     "execution_count": 107,
     "metadata": {},
     "output_type": "execute_result"
    }
   ],
   "source": [
    "np_array**2"
   ]
  },
  {
   "attachments": {},
   "cell_type": "markdown",
   "id": "f69b2f41",
   "metadata": {},
   "source": [
    "## 2.7 Asking questions"
   ]
  },
  {
   "cell_type": "code",
   "execution_count": 108,
   "id": "86fe1104-cea6-4c4b-9aff-22b370b1271f",
   "metadata": {},
   "outputs": [],
   "source": [
    "py_list = [1, 2, 3, 4, 5]\n",
    "np_array = np.array(py_list)"
   ]
  },
  {
   "cell_type": "code",
   "execution_count": 109,
   "id": "559a9ac7-b732-4f8d-a80d-b290e9b7bd6b",
   "metadata": {},
   "outputs": [
    {
     "data": {
      "text/plain": [
       "False"
      ]
     },
     "execution_count": 109,
     "metadata": {},
     "output_type": "execute_result"
    }
   ],
   "source": [
    "py_list == 3     # Works, but what IS the question?"
   ]
  },
  {
   "cell_type": "code",
   "execution_count": 112,
   "id": "91e4febc-cc31-45d5-bcbe-0a562160fcce",
   "metadata": {},
   "outputs": [
    {
     "data": {
      "text/plain": [
       "True"
      ]
     },
     "execution_count": 112,
     "metadata": {},
     "output_type": "execute_result"
    }
   ],
   "source": [
    "py_list == py_list #checks whether lists are equal\n"
   ]
  },
  {
   "cell_type": "code",
   "execution_count": 114,
   "id": "00b33f44-2b3b-47ce-8e00-38992dccf631",
   "metadata": {},
   "outputs": [
    {
     "data": {
      "text/plain": [
       "array([False, False,  True, False, False])"
      ]
     },
     "execution_count": 114,
     "metadata": {},
     "output_type": "execute_result"
    }
   ],
   "source": [
    "np_array == 3  #checks individual elements"
   ]
  },
  {
   "cell_type": "code",
   "execution_count": 115,
   "id": "08881113-134b-4d76-b162-3a70b718793a",
   "metadata": {},
   "outputs": [
    {
     "data": {
      "text/plain": [
       "array([False, False, False, False,  True])"
      ]
     },
     "execution_count": 115,
     "metadata": {},
     "output_type": "execute_result"
    }
   ],
   "source": [
    "np_array == 5"
   ]
  },
  {
   "cell_type": "code",
   "execution_count": 116,
   "id": "f1b0a461-eb9a-46b9-9f2b-2fccaf30c2d2",
   "metadata": {
    "scrolled": true
   },
   "outputs": [
    {
     "ename": "TypeError",
     "evalue": "'>' not supported between instances of 'list' and 'int'",
     "output_type": "error",
     "traceback": [
      "\u001b[1;31m---------------------------------------------------------------------------\u001b[0m",
      "\u001b[1;31mTypeError\u001b[0m                                 Traceback (most recent call last)",
      "Cell \u001b[1;32mIn[116], line 1\u001b[0m\n\u001b[1;32m----> 1\u001b[0m \u001b[43mpy_list\u001b[49m\u001b[43m \u001b[49m\u001b[38;5;241;43m>\u001b[39;49m\u001b[43m \u001b[49m\u001b[38;5;241;43m3\u001b[39;49m      \u001b[38;5;66;03m# Won't work!\u001b[39;00m\n",
      "\u001b[1;31mTypeError\u001b[0m: '>' not supported between instances of 'list' and 'int'"
     ]
    }
   ],
   "source": [
    "py_list > 3      # Won't work!"
   ]
  },
  {
   "cell_type": "code",
   "execution_count": 117,
   "id": "80233fb6-35f7-42c1-99ab-545bc03d537a",
   "metadata": {},
   "outputs": [
    {
     "data": {
      "text/plain": [
       "array([False, False, False,  True,  True])"
      ]
     },
     "execution_count": 117,
     "metadata": {},
     "output_type": "execute_result"
    }
   ],
   "source": [
    "np_array > 3  "
   ]
  },
  {
   "attachments": {},
   "cell_type": "markdown",
   "id": "4cc148a2",
   "metadata": {},
   "source": [
    "## 2.8 Mathematics"
   ]
  },
  {
   "cell_type": "code",
   "execution_count": 126,
   "id": "3d316b36-14e8-4835-ade4-61bddead7088",
   "metadata": {},
   "outputs": [],
   "source": [
    "py_list = [1, 2, 3, 4, 5]\n",
    "np_array = np.array(py_list)  "
   ]
  },
  {
   "cell_type": "code",
   "execution_count": 127,
   "id": "cce1984c-947e-47d3-9aa1-74541c63d2fb",
   "metadata": {},
   "outputs": [
    {
     "data": {
      "text/plain": [
       "15"
      ]
     },
     "execution_count": 127,
     "metadata": {},
     "output_type": "execute_result"
    }
   ],
   "source": [
    "sum(py_list)     # sum() is a base Python function"
   ]
  },
  {
   "cell_type": "code",
   "execution_count": 128,
   "id": "5553bde4-dba9-4ce9-91d3-c9b34003a0a0",
   "metadata": {},
   "outputs": [
    {
     "data": {
      "text/plain": [
       "15"
      ]
     },
     "execution_count": 128,
     "metadata": {},
     "output_type": "execute_result"
    }
   ],
   "source": [
    "np_array.sum()"
   ]
  },
  {
   "cell_type": "code",
   "execution_count": 129,
   "id": "fb7e0d5d-3805-47d7-a978-a8a02647eb41",
   "metadata": {},
   "outputs": [
    {
     "data": {
      "text/plain": [
       "5"
      ]
     },
     "execution_count": 129,
     "metadata": {},
     "output_type": "execute_result"
    }
   ],
   "source": [
    "max(py_list)     # max() is a base Python function\n",
    "#returns largest value"
   ]
  },
  {
   "cell_type": "code",
   "execution_count": 130,
   "id": "9d0d6367-732b-4001-99ac-eca67d2e5a9d",
   "metadata": {},
   "outputs": [
    {
     "data": {
      "text/plain": [
       "5"
      ]
     },
     "execution_count": 130,
     "metadata": {},
     "output_type": "execute_result"
    }
   ],
   "source": [
    "np_array.max()"
   ]
  },
  {
   "cell_type": "code",
   "execution_count": 132,
   "id": "d62eaa58-3912-4a30-afea-f56074e87868",
   "metadata": {},
   "outputs": [
    {
     "data": {
      "text/plain": [
       "1"
      ]
     },
     "execution_count": 132,
     "metadata": {},
     "output_type": "execute_result"
    }
   ],
   "source": [
    "min(py_list)     # min() is a base Python function\n",
    "#returns smallest value"
   ]
  },
  {
   "cell_type": "code",
   "execution_count": 133,
   "id": "4d72abac-5586-4e8a-9e86-cf94fd47d96d",
   "metadata": {},
   "outputs": [
    {
     "data": {
      "text/plain": [
       "1"
      ]
     },
     "execution_count": 133,
     "metadata": {},
     "output_type": "execute_result"
    }
   ],
   "source": [
    "np_array.min()"
   ]
  },
  {
   "cell_type": "code",
   "execution_count": 135,
   "id": "e472c984-d444-4d6a-be08-cb602de43b2f",
   "metadata": {
    "scrolled": true
   },
   "outputs": [
    {
     "ename": "AttributeError",
     "evalue": "'list' object has no attribute 'sum'",
     "output_type": "error",
     "traceback": [
      "\u001b[1;31m---------------------------------------------------------------------------\u001b[0m",
      "\u001b[1;31mAttributeError\u001b[0m                            Traceback (most recent call last)",
      "Cell \u001b[1;32mIn[135], line 1\u001b[0m\n\u001b[1;32m----> 1\u001b[0m \u001b[43mpy_list\u001b[49m\u001b[38;5;241;43m.\u001b[39;49m\u001b[43msum\u001b[49m()   \u001b[38;5;66;03m# Won't work! #cannot sum a list\u001b[39;00m\n",
      "\u001b[1;31mAttributeError\u001b[0m: 'list' object has no attribute 'sum'"
     ]
    }
   ],
   "source": [
    "py_list.sum()   # Won't work! #cannot sum a list"
   ]
  },
  {
   "cell_type": "code",
   "execution_count": 136,
   "id": "9667764d-a245-45f9-b933-740a1723b12c",
   "metadata": {},
   "outputs": [
    {
     "data": {
      "text/plain": [
       "3.0"
      ]
     },
     "execution_count": 136,
     "metadata": {},
     "output_type": "execute_result"
    }
   ],
   "source": [
    "np_array.mean()"
   ]
  },
  {
   "cell_type": "code",
   "execution_count": 138,
   "id": "1932f5b1-c143-4272-86ef-1295d8bc5fa6",
   "metadata": {},
   "outputs": [
    {
     "data": {
      "text/plain": [
       "1.4142135623730951"
      ]
     },
     "execution_count": 138,
     "metadata": {},
     "output_type": "execute_result"
    }
   ],
   "source": [
    "np_array.std()"
   ]
  },
  {
   "cell_type": "code",
   "execution_count": 141,
   "id": "eb2e9d0d-8da8-46db-a0d4-836c240f8adb",
   "metadata": {},
   "outputs": [
    {
     "ename": "AttributeError",
     "evalue": "'list' object has no attribute 'mean'",
     "output_type": "error",
     "traceback": [
      "\u001b[1;31m---------------------------------------------------------------------------\u001b[0m",
      "\u001b[1;31mAttributeError\u001b[0m                            Traceback (most recent call last)",
      "Cell \u001b[1;32mIn[141], line 1\u001b[0m\n\u001b[1;32m----> 1\u001b[0m \u001b[43mpy_list\u001b[49m\u001b[38;5;241;43m.\u001b[39;49m\u001b[43mmean\u001b[49m() \u001b[38;5;66;03m#likewise cannot get mean and std from list\u001b[39;00m\n\u001b[0;32m      2\u001b[0m \u001b[38;5;66;03m#operation on list works on whole list while on array works on individual elements\u001b[39;00m\n",
      "\u001b[1;31mAttributeError\u001b[0m: 'list' object has no attribute 'mean'"
     ]
    }
   ],
   "source": [
    "py_list.mean() #likewise cannot get mean and std from list\n",
    "#operation on list works on whole list while on array works on individual elements"
   ]
  },
  {
   "attachments": {},
   "cell_type": "markdown",
   "id": "0686ca55",
   "metadata": {},
   "source": [
    "# Exercises & Self-Assessment"
   ]
  },
  {
   "cell_type": "code",
   "execution_count": 142,
   "id": "2ad2e398",
   "metadata": {},
   "outputs": [],
   "source": [
    "py_list = [1, 50, 3, 4, 5]\n",
    "np_array = np.array(py_list)  "
   ]
  },
  {
   "cell_type": "code",
   "execution_count": 145,
   "id": "27c5951a-7f8e-45b6-965a-77e45c75e7bf",
   "metadata": {},
   "outputs": [
    {
     "data": {
      "text/plain": [
       "50"
      ]
     },
     "execution_count": 145,
     "metadata": {},
     "output_type": "execute_result"
    }
   ],
   "source": [
    "max(py_list) # double checked whether max is last element or max value"
   ]
  },
  {
   "attachments": {},
   "cell_type": "markdown",
   "id": "561ae329",
   "metadata": {},
   "source": [
    "## Footnotes"
   ]
  }
 ],
 "metadata": {
  "kernelspec": {
   "display_name": "Python 3 (ipykernel)",
   "language": "python",
   "name": "python3"
  },
  "language_info": {
   "codemirror_mode": {
    "name": "ipython",
    "version": 3
   },
   "file_extension": ".py",
   "mimetype": "text/x-python",
   "name": "python",
   "nbconvert_exporter": "python",
   "pygments_lexer": "ipython3",
   "version": "3.11.5"
  },
  "toc": {
   "base_numbering": 1,
   "nav_menu": {},
   "number_sections": true,
   "sideBar": true,
   "skip_h1_title": false,
   "title_cell": "Table of Contents",
   "title_sidebar": "Contents",
   "toc_cell": false,
   "toc_position": {},
   "toc_section_display": true,
   "toc_window_display": false
  },
  "vscode": {
   "interpreter": {
    "hash": "31f2aee4e71d21fbe5cf8b01ff0e069b9275f58929596ceb00d14d90e3e16cd6"
   }
  }
 },
 "nbformat": 4,
 "nbformat_minor": 5
}
